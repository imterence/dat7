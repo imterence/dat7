{
 "cells": [
  {
   "cell_type": "markdown",
   "metadata": {},
   "source": [
    "<img src=\"./images/topbanner.jpg\" style=\"margin: 10px; length: 500px\">\n",
    "\n",
    "\n",
    "## Offshore Equipment Breakdown Predictor \n",
    "by Terence Ong\n",
    "\n",
    "\n",
    "\n",
    "### Background information\n",
    "\n",
    "<b>\n",
    "Problem Statement:\n",
    "</b>\n",
    "\n"
   ]
  },
  {
   "cell_type": "markdown",
   "metadata": {},
   "source": [
    "### Preparing the Data\n"
   ]
  },
  {
   "cell_type": "code",
   "execution_count": 85,
   "metadata": {},
   "outputs": [],
   "source": [
    "# Declarations\n",
    "\n",
    "import matplotlib.pyplot as plt\n",
    "% matplotlib inline\n",
    "import pandas as pd\n",
    "import numpy as np\n",
    "import seaborn as sns\n",
    "from collections import defaultdict\n",
    "from sklearn.linear_model import LinearRegression\n",
    "from sklearn import metrics"
   ]
  },
  {
   "cell_type": "code",
   "execution_count": 21,
   "metadata": {},
   "outputs": [],
   "source": [
    "# Read in the data.\n",
    "path ='./data/equipmentbreakdownSmall.csv'\n",
    "\n",
    "equip = pd.read_csv(path, encoding = \"ISO-8859-1\")\n",
    "\n"
   ]
  },
  {
   "cell_type": "code",
   "execution_count": 22,
   "metadata": {},
   "outputs": [
    {
     "data": {
      "text/html": [
       "<div>\n",
       "<style scoped>\n",
       "    .dataframe tbody tr th:only-of-type {\n",
       "        vertical-align: middle;\n",
       "    }\n",
       "\n",
       "    .dataframe tbody tr th {\n",
       "        vertical-align: top;\n",
       "    }\n",
       "\n",
       "    .dataframe thead th {\n",
       "        text-align: right;\n",
       "    }\n",
       "</style>\n",
       "<table border=\"1\" class=\"dataframe\">\n",
       "  <thead>\n",
       "    <tr style=\"text-align: right;\">\n",
       "      <th></th>\n",
       "      <th>REG_DATE</th>\n",
       "      <th>ERR_DESCR</th>\n",
       "      <th>WORK_DESCR_LO</th>\n",
       "      <th>PERFORMED_ACTION_LO</th>\n",
       "      <th>RIG</th>\n",
       "      <th>AGE_OF_RIG</th>\n",
       "      <th>PERFORMED_ACTION_ID</th>\n",
       "      <th>PERFORMED_ACTION</th>\n",
       "      <th>ERR_TYPE</th>\n",
       "      <th>ERROR_TYPE</th>\n",
       "      <th>MCH_CODE</th>\n",
       "      <th>MCH_CODE_DESCRIPTION</th>\n",
       "      <th>SFI</th>\n",
       "      <th>Count_of_breakdown</th>\n",
       "    </tr>\n",
       "  </thead>\n",
       "  <tbody>\n",
       "    <tr>\n",
       "      <th>0</th>\n",
       "      <td>13-Jul-15</td>\n",
       "      <td>Assistance to Fanø crane service.</td>\n",
       "      <td>na</td>\n",
       "      <td>Assist Fanø crane service.</td>\n",
       "      <td>J105</td>\n",
       "      <td>5361.0</td>\n",
       "      <td>12.0</td>\n",
       "      <td>Other</td>\n",
       "      <td>6.2</td>\n",
       "      <td>Other</td>\n",
       "      <td>11002484</td>\n",
       "      <td>CRANE NO.2; FWD;STBD</td>\n",
       "      <td>361</td>\n",
       "      <td>42</td>\n",
       "    </tr>\n",
       "    <tr>\n",
       "      <th>1</th>\n",
       "      <td>07-Jun-15</td>\n",
       "      <td>replace cables and plugs for test equip in mudlab</td>\n",
       "      <td>replace cables and plugs for test equip in mudlab</td>\n",
       "      <td>cables damaged</td>\n",
       "      <td>J105</td>\n",
       "      <td>5361.0</td>\n",
       "      <td>1.0</td>\n",
       "      <td>Replace</td>\n",
       "      <td>4.3</td>\n",
       "      <td>No power/voltage</td>\n",
       "      <td>12010582</td>\n",
       "      <td>THIRD PARTY EQUIPMENT - GROUP</td>\n",
       "      <td>180</td>\n",
       "      <td>43</td>\n",
       "    </tr>\n",
       "    <tr>\n",
       "      <th>2</th>\n",
       "      <td>08-Jun-15</td>\n",
       "      <td>Modifi bit braker</td>\n",
       "      <td>Modifi bit braker to fit new bit from Conoco</td>\n",
       "      <td>Modifi bit breaker to fit new bit from Conoco</td>\n",
       "      <td>J105</td>\n",
       "      <td>5361.0</td>\n",
       "      <td>1.0</td>\n",
       "      <td>Replace</td>\n",
       "      <td>1.0</td>\n",
       "      <td>General</td>\n",
       "      <td>10001235</td>\n",
       "      <td>BIT SUB; 7 5/8\" REG BOX X BOX</td>\n",
       "      <td>353</td>\n",
       "      <td>1</td>\n",
       "    </tr>\n",
       "    <tr>\n",
       "      <th>3</th>\n",
       "      <td>10-Nov-15</td>\n",
       "      <td>Assist Archer with electrical connections etc.</td>\n",
       "      <td>Hook up test repair</td>\n",
       "      <td>Assist 3rd party</td>\n",
       "      <td>J105</td>\n",
       "      <td>5361.0</td>\n",
       "      <td>7.0</td>\n",
       "      <td>Service</td>\n",
       "      <td>6.0</td>\n",
       "      <td>General</td>\n",
       "      <td>12010588</td>\n",
       "      <td>OFFICE CONTAINER</td>\n",
       "      <td>180</td>\n",
       "      <td>1</td>\n",
       "    </tr>\n",
       "    <tr>\n",
       "      <th>4</th>\n",
       "      <td>09-Jan-16</td>\n",
       "      <td>Hook up MWD container</td>\n",
       "      <td>Hook up MWD container</td>\n",
       "      <td>Hook up MWD container</td>\n",
       "      <td>J105</td>\n",
       "      <td>5361.0</td>\n",
       "      <td>12.0</td>\n",
       "      <td>Other</td>\n",
       "      <td>6.0</td>\n",
       "      <td>General</td>\n",
       "      <td>12010582</td>\n",
       "      <td>THIRD PARTY EQUIPMENT - GROUP</td>\n",
       "      <td>180</td>\n",
       "      <td>43</td>\n",
       "    </tr>\n",
       "    <tr>\n",
       "      <th>5</th>\n",
       "      <td>09-Feb-16</td>\n",
       "      <td>hook up third party units</td>\n",
       "      <td>hook up third party units</td>\n",
       "      <td>Hook up of schlumberger workshop container</td>\n",
       "      <td>J105</td>\n",
       "      <td>5361.0</td>\n",
       "      <td>1.0</td>\n",
       "      <td>Replace</td>\n",
       "      <td>1.0</td>\n",
       "      <td>General</td>\n",
       "      <td>12010582</td>\n",
       "      <td>THIRD PARTY EQUIPMENT - GROUP</td>\n",
       "      <td>180</td>\n",
       "      <td>43</td>\n",
       "    </tr>\n",
       "    <tr>\n",
       "      <th>6</th>\n",
       "      <td>10-Nov-15</td>\n",
       "      <td>Assist Archer with electrical connections etc.</td>\n",
       "      <td>Hook up test repair</td>\n",
       "      <td>Assist 3rd party</td>\n",
       "      <td>J105</td>\n",
       "      <td>5361.0</td>\n",
       "      <td>7.0</td>\n",
       "      <td>Service</td>\n",
       "      <td>6.0</td>\n",
       "      <td>General</td>\n",
       "      <td>12010590</td>\n",
       "      <td>WINCH</td>\n",
       "      <td>180</td>\n",
       "      <td>1</td>\n",
       "    </tr>\n",
       "    <tr>\n",
       "      <th>7</th>\n",
       "      <td>26-Dec-15</td>\n",
       "      <td>HOOK UP THIRD PARTY EQUIPMENT</td>\n",
       "      <td>HOOK UP ARCHER AND WELTEC UNITS</td>\n",
       "      <td>Disconnection of wireline unit</td>\n",
       "      <td>J105</td>\n",
       "      <td>5361.0</td>\n",
       "      <td>12.0</td>\n",
       "      <td>Other</td>\n",
       "      <td>6.2</td>\n",
       "      <td>Other</td>\n",
       "      <td>12010582</td>\n",
       "      <td>THIRD PARTY EQUIPMENT - GROUP</td>\n",
       "      <td>180</td>\n",
       "      <td>43</td>\n",
       "    </tr>\n",
       "    <tr>\n",
       "      <th>8</th>\n",
       "      <td>20-Jul-16</td>\n",
       "      <td>Faultfind AC unit MWD</td>\n",
       "      <td>Faultfind. During faultfind we blew a fuse on ...</td>\n",
       "      <td>Faultfind. During faultfind we blew a fuse on ...</td>\n",
       "      <td>J105</td>\n",
       "      <td>5361.0</td>\n",
       "      <td>6.0</td>\n",
       "      <td>Check</td>\n",
       "      <td>3.3</td>\n",
       "      <td>Faulty signal/indication/alarm</td>\n",
       "      <td>12010582</td>\n",
       "      <td>THIRD PARTY EQUIPMENT - GROUP</td>\n",
       "      <td>180</td>\n",
       "      <td>43</td>\n",
       "    </tr>\n",
       "    <tr>\n",
       "      <th>9</th>\n",
       "      <td>05-Feb-16</td>\n",
       "      <td>hook up third party uinits</td>\n",
       "      <td>hook up third party uinits</td>\n",
       "      <td>.</td>\n",
       "      <td>J105</td>\n",
       "      <td>5361.0</td>\n",
       "      <td>1.0</td>\n",
       "      <td>Replace</td>\n",
       "      <td>1.0</td>\n",
       "      <td>General</td>\n",
       "      <td>12010582</td>\n",
       "      <td>THIRD PARTY EQUIPMENT - GROUP</td>\n",
       "      <td>180</td>\n",
       "      <td>43</td>\n",
       "    </tr>\n",
       "  </tbody>\n",
       "</table>\n",
       "</div>"
      ],
      "text/plain": [
       "    REG_DATE                                          ERR_DESCR  \\\n",
       "0  13-Jul-15                  Assistance to Fanø crane service.   \n",
       "1  07-Jun-15  replace cables and plugs for test equip in mudlab   \n",
       "2  08-Jun-15                                  Modifi bit braker   \n",
       "3  10-Nov-15     Assist Archer with electrical connections etc.   \n",
       "4  09-Jan-16                              Hook up MWD container   \n",
       "5  09-Feb-16                          hook up third party units   \n",
       "6  10-Nov-15     Assist Archer with electrical connections etc.   \n",
       "7  26-Dec-15                      HOOK UP THIRD PARTY EQUIPMENT   \n",
       "8  20-Jul-16                              Faultfind AC unit MWD   \n",
       "9  05-Feb-16                         hook up third party uinits   \n",
       "\n",
       "                                       WORK_DESCR_LO  \\\n",
       "0                                                 na   \n",
       "1  replace cables and plugs for test equip in mudlab   \n",
       "2       Modifi bit braker to fit new bit from Conoco   \n",
       "3                                Hook up test repair   \n",
       "4                              Hook up MWD container   \n",
       "5                          hook up third party units   \n",
       "6                                Hook up test repair   \n",
       "7                    HOOK UP ARCHER AND WELTEC UNITS   \n",
       "8  Faultfind. During faultfind we blew a fuse on ...   \n",
       "9                         hook up third party uinits   \n",
       "\n",
       "                                 PERFORMED_ACTION_LO   RIG  AGE_OF_RIG  \\\n",
       "0                         Assist Fanø crane service.  J105      5361.0   \n",
       "1                                     cables damaged  J105      5361.0   \n",
       "2      Modifi bit breaker to fit new bit from Conoco  J105      5361.0   \n",
       "3                                   Assist 3rd party  J105      5361.0   \n",
       "4                              Hook up MWD container  J105      5361.0   \n",
       "5         Hook up of schlumberger workshop container  J105      5361.0   \n",
       "6                                   Assist 3rd party  J105      5361.0   \n",
       "7                     Disconnection of wireline unit  J105      5361.0   \n",
       "8  Faultfind. During faultfind we blew a fuse on ...  J105      5361.0   \n",
       "9                                                  .  J105      5361.0   \n",
       "\n",
       "   PERFORMED_ACTION_ID PERFORMED_ACTION  ERR_TYPE  \\\n",
       "0                 12.0            Other       6.2   \n",
       "1                  1.0          Replace       4.3   \n",
       "2                  1.0          Replace       1.0   \n",
       "3                  7.0          Service       6.0   \n",
       "4                 12.0            Other       6.0   \n",
       "5                  1.0          Replace       1.0   \n",
       "6                  7.0          Service       6.0   \n",
       "7                 12.0            Other       6.2   \n",
       "8                  6.0            Check       3.3   \n",
       "9                  1.0          Replace       1.0   \n",
       "\n",
       "                       ERROR_TYPE  MCH_CODE           MCH_CODE_DESCRIPTION  \\\n",
       "0                           Other  11002484           CRANE NO.2; FWD;STBD   \n",
       "1                No power/voltage  12010582  THIRD PARTY EQUIPMENT - GROUP   \n",
       "2                         General  10001235  BIT SUB; 7 5/8\" REG BOX X BOX   \n",
       "3                         General  12010588               OFFICE CONTAINER   \n",
       "4                         General  12010582  THIRD PARTY EQUIPMENT - GROUP   \n",
       "5                         General  12010582  THIRD PARTY EQUIPMENT - GROUP   \n",
       "6                         General  12010590                          WINCH   \n",
       "7                           Other  12010582  THIRD PARTY EQUIPMENT - GROUP   \n",
       "8  Faulty signal/indication/alarm  12010582  THIRD PARTY EQUIPMENT - GROUP   \n",
       "9                         General  12010582  THIRD PARTY EQUIPMENT - GROUP   \n",
       "\n",
       "   SFI  Count_of_breakdown  \n",
       "0  361                  42  \n",
       "1  180                  43  \n",
       "2  353                   1  \n",
       "3  180                   1  \n",
       "4  180                  43  \n",
       "5  180                  43  \n",
       "6  180                   1  \n",
       "7  180                  43  \n",
       "8  180                  43  \n",
       "9  180                  43  "
      ]
     },
     "execution_count": 22,
     "metadata": {},
     "output_type": "execute_result"
    }
   ],
   "source": [
    "equip.head(10)"
   ]
  },
  {
   "cell_type": "code",
   "execution_count": 23,
   "metadata": {},
   "outputs": [],
   "source": [
    "X = equip\n",
    "y = pd.DataFrame(equip.Count_of_breakdown)\n"
   ]
  },
  {
   "cell_type": "code",
   "execution_count": 24,
   "metadata": {},
   "outputs": [
    {
     "data": {
      "text/plain": [
       "(543, 14)"
      ]
     },
     "execution_count": 24,
     "metadata": {},
     "output_type": "execute_result"
    }
   ],
   "source": [
    "X.shape"
   ]
  },
  {
   "cell_type": "code",
   "execution_count": 25,
   "metadata": {},
   "outputs": [
    {
     "data": {
      "text/plain": [
       "(543, 1)"
      ]
     },
     "execution_count": 25,
     "metadata": {},
     "output_type": "execute_result"
    }
   ],
   "source": [
    "y.shape"
   ]
  },
  {
   "cell_type": "code",
   "execution_count": 26,
   "metadata": {},
   "outputs": [
    {
     "data": {
      "text/plain": [
       "REG_DATE                 0\n",
       "ERR_DESCR                0\n",
       "WORK_DESCR_LO            4\n",
       "PERFORMED_ACTION_LO      9\n",
       "RIG                      0\n",
       "AGE_OF_RIG               1\n",
       "PERFORMED_ACTION_ID     12\n",
       "PERFORMED_ACTION         9\n",
       "ERR_TYPE                12\n",
       "ERROR_TYPE               9\n",
       "MCH_CODE                 0\n",
       "MCH_CODE_DESCRIPTION     0\n",
       "SFI                      0\n",
       "Count_of_breakdown       0\n",
       "dtype: int64"
      ]
     },
     "execution_count": 26,
     "metadata": {},
     "output_type": "execute_result"
    }
   ],
   "source": [
    "X.isnull().sum()"
   ]
  },
  {
   "cell_type": "code",
   "execution_count": 8,
   "metadata": {},
   "outputs": [
    {
     "data": {
      "text/plain": [
       "RangeIndex(start=0, stop=543, step=1)"
      ]
     },
     "execution_count": 8,
     "metadata": {},
     "output_type": "execute_result"
    }
   ],
   "source": [
    "X.index"
   ]
  },
  {
   "cell_type": "code",
   "execution_count": 9,
   "metadata": {},
   "outputs": [
    {
     "data": {
      "text/plain": [
       "REG_DATE                 object\n",
       "ERR_DESCR                object\n",
       "WORK_DESCR_LO            object\n",
       "PERFORMED_ACTION_LO      object\n",
       "RIG                      object\n",
       "AGE_OF_RIG              float64\n",
       "PERFORMED_ACTION_ID     float64\n",
       "PERFORMED_ACTION         object\n",
       "ERR_TYPE                float64\n",
       "ERROR_TYPE               object\n",
       "MCH_CODE                  int64\n",
       "MCH_CODE_DESCRIPTION     object\n",
       "SFI                       int64\n",
       "dtype: object"
      ]
     },
     "execution_count": 9,
     "metadata": {},
     "output_type": "execute_result"
    }
   ],
   "source": [
    "X.dtypes"
   ]
  },
  {
   "cell_type": "code",
   "execution_count": 10,
   "metadata": {},
   "outputs": [
    {
     "data": {
      "text/html": [
       "<div>\n",
       "<style scoped>\n",
       "    .dataframe tbody tr th:only-of-type {\n",
       "        vertical-align: middle;\n",
       "    }\n",
       "\n",
       "    .dataframe tbody tr th {\n",
       "        vertical-align: top;\n",
       "    }\n",
       "\n",
       "    .dataframe thead th {\n",
       "        text-align: right;\n",
       "    }\n",
       "</style>\n",
       "<table border=\"1\" class=\"dataframe\">\n",
       "  <thead>\n",
       "    <tr style=\"text-align: right;\">\n",
       "      <th></th>\n",
       "      <th>REG_DATE</th>\n",
       "      <th>ERR_DESCR</th>\n",
       "      <th>WORK_DESCR_LO</th>\n",
       "      <th>PERFORMED_ACTION_LO</th>\n",
       "      <th>RIG</th>\n",
       "      <th>AGE_OF_RIG</th>\n",
       "      <th>PERFORMED_ACTION_ID</th>\n",
       "      <th>PERFORMED_ACTION</th>\n",
       "      <th>ERR_TYPE</th>\n",
       "      <th>ERROR_TYPE</th>\n",
       "      <th>MCH_CODE</th>\n",
       "      <th>MCH_CODE_DESCRIPTION</th>\n",
       "      <th>SFI</th>\n",
       "    </tr>\n",
       "  </thead>\n",
       "  <tbody>\n",
       "    <tr>\n",
       "      <th>count</th>\n",
       "      <td>543</td>\n",
       "      <td>543</td>\n",
       "      <td>539</td>\n",
       "      <td>534</td>\n",
       "      <td>543</td>\n",
       "      <td>542.000000</td>\n",
       "      <td>531.000000</td>\n",
       "      <td>534</td>\n",
       "      <td>531.00000</td>\n",
       "      <td>534</td>\n",
       "      <td>5.430000e+02</td>\n",
       "      <td>543</td>\n",
       "      <td>543.000000</td>\n",
       "    </tr>\n",
       "    <tr>\n",
       "      <th>unique</th>\n",
       "      <td>289</td>\n",
       "      <td>531</td>\n",
       "      <td>510</td>\n",
       "      <td>513</td>\n",
       "      <td>16</td>\n",
       "      <td>NaN</td>\n",
       "      <td>NaN</td>\n",
       "      <td>12</td>\n",
       "      <td>NaN</td>\n",
       "      <td>30</td>\n",
       "      <td>NaN</td>\n",
       "      <td>427</td>\n",
       "      <td>NaN</td>\n",
       "    </tr>\n",
       "    <tr>\n",
       "      <th>top</th>\n",
       "      <td>10-Dec-16</td>\n",
       "      <td>Change Out Air Dryer Inlet and Outlet Filters</td>\n",
       "      <td>.</td>\n",
       "      <td>.</td>\n",
       "      <td>D101</td>\n",
       "      <td>NaN</td>\n",
       "      <td>NaN</td>\n",
       "      <td>Replace</td>\n",
       "      <td>NaN</td>\n",
       "      <td>General</td>\n",
       "      <td>NaN</td>\n",
       "      <td>DRILL PIPE SYSTEM</td>\n",
       "      <td>NaN</td>\n",
       "    </tr>\n",
       "    <tr>\n",
       "      <th>freq</th>\n",
       "      <td>8</td>\n",
       "      <td>4</td>\n",
       "      <td>5</td>\n",
       "      <td>11</td>\n",
       "      <td>404</td>\n",
       "      <td>NaN</td>\n",
       "      <td>NaN</td>\n",
       "      <td>293</td>\n",
       "      <td>NaN</td>\n",
       "      <td>179</td>\n",
       "      <td>NaN</td>\n",
       "      <td>11</td>\n",
       "      <td>NaN</td>\n",
       "    </tr>\n",
       "    <tr>\n",
       "      <th>mean</th>\n",
       "      <td>NaN</td>\n",
       "      <td>NaN</td>\n",
       "      <td>NaN</td>\n",
       "      <td>NaN</td>\n",
       "      <td>NaN</td>\n",
       "      <td>1837.791513</td>\n",
       "      <td>3.866290</td>\n",
       "      <td>NaN</td>\n",
       "      <td>2.89209</td>\n",
       "      <td>NaN</td>\n",
       "      <td>1.120037e+07</td>\n",
       "      <td>NaN</td>\n",
       "      <td>451.014733</td>\n",
       "    </tr>\n",
       "    <tr>\n",
       "      <th>std</th>\n",
       "      <td>NaN</td>\n",
       "      <td>NaN</td>\n",
       "      <td>NaN</td>\n",
       "      <td>NaN</td>\n",
       "      <td>NaN</td>\n",
       "      <td>1113.951191</td>\n",
       "      <td>4.191975</td>\n",
       "      <td>NaN</td>\n",
       "      <td>1.97748</td>\n",
       "      <td>NaN</td>\n",
       "      <td>8.102820e+05</td>\n",
       "      <td>NaN</td>\n",
       "      <td>178.338735</td>\n",
       "    </tr>\n",
       "    <tr>\n",
       "      <th>min</th>\n",
       "      <td>NaN</td>\n",
       "      <td>NaN</td>\n",
       "      <td>NaN</td>\n",
       "      <td>NaN</td>\n",
       "      <td>NaN</td>\n",
       "      <td>825.000000</td>\n",
       "      <td>1.000000</td>\n",
       "      <td>NaN</td>\n",
       "      <td>1.00000</td>\n",
       "      <td>NaN</td>\n",
       "      <td>1.000124e+07</td>\n",
       "      <td>NaN</td>\n",
       "      <td>112.000000</td>\n",
       "    </tr>\n",
       "    <tr>\n",
       "      <th>25%</th>\n",
       "      <td>NaN</td>\n",
       "      <td>NaN</td>\n",
       "      <td>NaN</td>\n",
       "      <td>NaN</td>\n",
       "      <td>NaN</td>\n",
       "      <td>1515.000000</td>\n",
       "      <td>1.000000</td>\n",
       "      <td>NaN</td>\n",
       "      <td>1.10000</td>\n",
       "      <td>NaN</td>\n",
       "      <td>1.100317e+07</td>\n",
       "      <td>NaN</td>\n",
       "      <td>331.000000</td>\n",
       "    </tr>\n",
       "    <tr>\n",
       "      <th>50%</th>\n",
       "      <td>NaN</td>\n",
       "      <td>NaN</td>\n",
       "      <td>NaN</td>\n",
       "      <td>NaN</td>\n",
       "      <td>NaN</td>\n",
       "      <td>1515.000000</td>\n",
       "      <td>1.000000</td>\n",
       "      <td>NaN</td>\n",
       "      <td>2.40000</td>\n",
       "      <td>NaN</td>\n",
       "      <td>1.122360e+07</td>\n",
       "      <td>NaN</td>\n",
       "      <td>361.000000</td>\n",
       "    </tr>\n",
       "    <tr>\n",
       "      <th>75%</th>\n",
       "      <td>NaN</td>\n",
       "      <td>NaN</td>\n",
       "      <td>NaN</td>\n",
       "      <td>NaN</td>\n",
       "      <td>NaN</td>\n",
       "      <td>1515.000000</td>\n",
       "      <td>7.000000</td>\n",
       "      <td>NaN</td>\n",
       "      <td>4.40000</td>\n",
       "      <td>NaN</td>\n",
       "      <td>1.126262e+07</td>\n",
       "      <td>NaN</td>\n",
       "      <td>574.000000</td>\n",
       "    </tr>\n",
       "    <tr>\n",
       "      <th>max</th>\n",
       "      <td>NaN</td>\n",
       "      <td>NaN</td>\n",
       "      <td>NaN</td>\n",
       "      <td>NaN</td>\n",
       "      <td>NaN</td>\n",
       "      <td>11662.000000</td>\n",
       "      <td>12.000000</td>\n",
       "      <td>NaN</td>\n",
       "      <td>6.30000</td>\n",
       "      <td>NaN</td>\n",
       "      <td>2.100824e+07</td>\n",
       "      <td>NaN</td>\n",
       "      <td>893.000000</td>\n",
       "    </tr>\n",
       "  </tbody>\n",
       "</table>\n",
       "</div>"
      ],
      "text/plain": [
       "         REG_DATE                                      ERR_DESCR  \\\n",
       "count         543                                            543   \n",
       "unique        289                                            531   \n",
       "top     10-Dec-16  Change Out Air Dryer Inlet and Outlet Filters   \n",
       "freq            8                                              4   \n",
       "mean          NaN                                            NaN   \n",
       "std           NaN                                            NaN   \n",
       "min           NaN                                            NaN   \n",
       "25%           NaN                                            NaN   \n",
       "50%           NaN                                            NaN   \n",
       "75%           NaN                                            NaN   \n",
       "max           NaN                                            NaN   \n",
       "\n",
       "       WORK_DESCR_LO PERFORMED_ACTION_LO   RIG    AGE_OF_RIG  \\\n",
       "count            539                 534   543    542.000000   \n",
       "unique           510                 513    16           NaN   \n",
       "top                .                   .  D101           NaN   \n",
       "freq               5                  11   404           NaN   \n",
       "mean             NaN                 NaN   NaN   1837.791513   \n",
       "std              NaN                 NaN   NaN   1113.951191   \n",
       "min              NaN                 NaN   NaN    825.000000   \n",
       "25%              NaN                 NaN   NaN   1515.000000   \n",
       "50%              NaN                 NaN   NaN   1515.000000   \n",
       "75%              NaN                 NaN   NaN   1515.000000   \n",
       "max              NaN                 NaN   NaN  11662.000000   \n",
       "\n",
       "        PERFORMED_ACTION_ID PERFORMED_ACTION   ERR_TYPE ERROR_TYPE  \\\n",
       "count            531.000000              534  531.00000        534   \n",
       "unique                  NaN               12        NaN         30   \n",
       "top                     NaN          Replace        NaN    General   \n",
       "freq                    NaN              293        NaN        179   \n",
       "mean               3.866290              NaN    2.89209        NaN   \n",
       "std                4.191975              NaN    1.97748        NaN   \n",
       "min                1.000000              NaN    1.00000        NaN   \n",
       "25%                1.000000              NaN    1.10000        NaN   \n",
       "50%                1.000000              NaN    2.40000        NaN   \n",
       "75%                7.000000              NaN    4.40000        NaN   \n",
       "max               12.000000              NaN    6.30000        NaN   \n",
       "\n",
       "            MCH_CODE MCH_CODE_DESCRIPTION         SFI  \n",
       "count   5.430000e+02                  543  543.000000  \n",
       "unique           NaN                  427         NaN  \n",
       "top              NaN    DRILL PIPE SYSTEM         NaN  \n",
       "freq             NaN                   11         NaN  \n",
       "mean    1.120037e+07                  NaN  451.014733  \n",
       "std     8.102820e+05                  NaN  178.338735  \n",
       "min     1.000124e+07                  NaN  112.000000  \n",
       "25%     1.100317e+07                  NaN  331.000000  \n",
       "50%     1.122360e+07                  NaN  361.000000  \n",
       "75%     1.126262e+07                  NaN  574.000000  \n",
       "max     2.100824e+07                  NaN  893.000000  "
      ]
     },
     "execution_count": 10,
     "metadata": {},
     "output_type": "execute_result"
    }
   ],
   "source": [
    "X.describe(include=\"all\")"
   ]
  },
  {
   "cell_type": "code",
   "execution_count": 11,
   "metadata": {},
   "outputs": [
    {
     "data": {
      "text/plain": [
       "REG_DATE                289\n",
       "ERR_DESCR               531\n",
       "WORK_DESCR_LO           510\n",
       "PERFORMED_ACTION_LO     513\n",
       "RIG                      16\n",
       "AGE_OF_RIG               11\n",
       "PERFORMED_ACTION_ID      11\n",
       "PERFORMED_ACTION         12\n",
       "ERR_TYPE                 34\n",
       "ERROR_TYPE               30\n",
       "MCH_CODE                438\n",
       "MCH_CODE_DESCRIPTION    427\n",
       "SFI                     108\n",
       "dtype: int64"
      ]
     },
     "execution_count": 11,
     "metadata": {},
     "output_type": "execute_result"
    }
   ],
   "source": [
    "#unique\n",
    "X.apply(pd.Series.nunique)"
   ]
  },
  {
   "cell_type": "markdown",
   "metadata": {},
   "source": [
    "<div class=\"alert alert-success\" role=\"alert\">\n",
    "\n",
    "  <p>Proving that the older the equipment, the highly likely it will breakdown. (duh). I used age of rig instead of the actual age of equipment as I don't have the data of when the equipment was purchased.</p>\n",
    "  <hr>\n",
    "  <p class=\"mb-0\">A better way would be to look at the usage intensity of the equipment but I was unable to obtain those data. </p>\n",
    "</div>\n",
    "\n"
   ]
  },
  {
   "cell_type": "code",
   "execution_count": 39,
   "metadata": {},
   "outputs": [
    {
     "data": {
      "text/plain": [
       "Text(10.05,0.5,'Breakdown frequency')"
      ]
     },
     "execution_count": 39,
     "metadata": {},
     "output_type": "execute_result"
    },
    {
     "data": {
      "image/png": "[encoded data removed]",
      "text/plain": [
       "<matplotlib.figure.Figure at 0x25dd47272b0>"
      ]
     },
     "metadata": {},
     "output_type": "display_data"
    }
   ],
   "source": [
    "sns.lmplot(x='AGE_OF_RIG', y='Count_of_breakdown', data=equip);\n",
    "\n",
    "plt.title('Age against Rate of breakdown')\n",
    "plt.xlabel('Age of rig (DAYS)')\n",
    "plt.ylabel('Breakdown frequency')\n"
   ]
  },
  {
   "cell_type": "markdown",
   "metadata": {},
   "source": [
    "<div class=\"alert alert-success\" role=\"alert\">\n",
    "  <p>Another way is to see equipment in which SFI has a higher occurance of breaking down. I would assume it is SFI 3 as those are the drilling equipment.\n",
    "</div>"
   ]
  },
  {
   "cell_type": "code",
   "execution_count": 34,
   "metadata": {},
   "outputs": [
    {
     "data": {
      "text/plain": [
       "112     1\n",
       "152     1\n",
       "180    13\n",
       "226     2\n",
       "247     1\n",
       "251     1\n",
       "253     2\n",
       "262     1\n",
       "271     1\n",
       "281     3\n",
       "285     5\n",
       "288     1\n",
       "301     3\n",
       "303     2\n",
       "311     3\n",
       "312    11\n",
       "313    15\n",
       "314     3\n",
       "315     1\n",
       "317     3\n",
       "321     8\n",
       "324     6\n",
       "325    25\n",
       "326     8\n",
       "327     1\n",
       "329     1\n",
       "331    23\n",
       "332    14\n",
       "334     2\n",
       "335     3\n",
       "       ..\n",
       "577     1\n",
       "581     6\n",
       "582     2\n",
       "651    26\n",
       "665     1\n",
       "702     2\n",
       "703     4\n",
       "712     3\n",
       "721     6\n",
       "722     4\n",
       "733     9\n",
       "744     1\n",
       "761     8\n",
       "797     1\n",
       "801     5\n",
       "803     4\n",
       "806     1\n",
       "811     4\n",
       "812     1\n",
       "813     3\n",
       "815     4\n",
       "821     1\n",
       "865     2\n",
       "866     1\n",
       "867     7\n",
       "871     2\n",
       "875     1\n",
       "891     2\n",
       "892     3\n",
       "893     4\n",
       "Name: SFI, Length: 108, dtype: int64"
      ]
     },
     "execution_count": 34,
     "metadata": {},
     "output_type": "execute_result"
    }
   ],
   "source": [
    "# checking to see if there is a fair amount of equipment in each SFI\n",
    "\n",
    "equip.SFI.value_counts().sort_index()"
   ]
  },
  {
   "cell_type": "code",
   "execution_count": 32,
   "metadata": {},
   "outputs": [
    {
     "data": {
      "image/png": "[encoded data removed]",
      "text/plain": [
       "<matplotlib.figure.Figure at 0x25dd47a4278>"
      ]
     },
     "metadata": {},
     "output_type": "display_data"
    }
   ],
   "source": [
    "sns.lmplot(x='SFI', y='Count_of_breakdown', data=equip);"
   ]
  },
  {
   "cell_type": "markdown",
   "metadata": {},
   "source": [
    "<div class=\"alert alert-success\" role=\"alert\">\n",
    "  <h4 class=\"alert-heading\">I was right!</h4>\n",
    "  <p>SFI 3 has a higher rate of breakdown due to the type of equipment in that classification - Drilling equipment\n",
    "</div>"
   ]
  },
  {
   "cell_type": "code",
   "execution_count": 81,
   "metadata": {},
   "outputs": [
    {
     "data": {
      "image/png": "[encoded data removed]",
      "text/plain": [
       "<matplotlib.figure.Figure at 0x25dd3791748>"
      ]
     },
     "metadata": {},
     "output_type": "display_data"
    }
   ],
   "source": [
    "#What kind of breakdowns?\n",
    "equip.plot(kind='scatter', x='ERR_TYPE', y='Count_of_breakdown');\n"
   ]
  },
  {
   "cell_type": "code",
   "execution_count": 82,
   "metadata": {},
   "outputs": [
    {
     "name": "stdout",
     "output_type": "stream",
     "text": [
      "General\n",
      "Leakage\n",
      "Wear\n"
     ]
    }
   ],
   "source": [
    "error_dict = dict(zip(equip.ERR_TYPE, equip.ERROR_TYPE))\n",
    "\n",
    "#Top breakdown causes\n",
    "print(error_dict[1.0])\n",
    "print(error_dict[1.1])\n",
    "print(error_dict[2.4])\n"
   ]
  },
  {
   "cell_type": "code",
   "execution_count": 92,
   "metadata": {},
   "outputs": [
    {
     "name": "stdout",
     "output_type": "stream",
     "text": [
      "The intercept is:  [9.57330123]\n",
      "The coefficient is  [[-0.0083638]]\n"
     ]
    }
   ],
   "source": [
    "lr = LinearRegression()\n",
    "\n",
    "feature_cols = ['SFI']\n",
    "X_feat = X[feature_cols]\n",
    "\n",
    "lr.fit(X_feat,y)\n",
    "\n",
    "print(\"The intercept is: \", lr.intercept_)\n",
    "print(\"The coefficient is \", lr.coef_)\n"
   ]
  },
  {
   "cell_type": "code",
   "execution_count": 93,
   "metadata": {},
   "outputs": [],
   "source": [
    "y_pred = lr.predict(X_feat)"
   ]
  },
  {
   "cell_type": "code",
   "execution_count": 94,
   "metadata": {},
   "outputs": [
    {
     "data": {
      "text/plain": [
       "<matplotlib.collections.PathCollection at 0x25dd60b6908>"
      ]
     },
     "execution_count": 94,
     "metadata": {},
     "output_type": "execute_result"
    },
    {
     "data": {
      "image/png": "[encoded data removed]",
      "text/plain": [
       "<matplotlib.figure.Figure at 0x25dd608e320>"
      ]
     },
     "metadata": {},
     "output_type": "display_data"
    }
   ],
   "source": [
    "plt.scatter(y, y_pred)"
   ]
  },
  {
   "cell_type": "code",
   "execution_count": 95,
   "metadata": {},
   "outputs": [
    {
     "name": "stdout",
     "output_type": "stream",
     "text": [
      "RMSE:  9.214714884889196\n"
     ]
    }
   ],
   "source": [
    "print(\"RMSE: \", np.sqrt(metrics.mean_squared_error(y, y_pred)))"
   ]
  },
  {
   "cell_type": "code",
   "execution_count": null,
   "metadata": {},
   "outputs": [],
   "source": []
  }
 ],
 "metadata": {
  "kernelspec": {
   "display_name": "Python 3",
   "language": "python",
   "name": "python3"
  },
  "language_info": {
   "codemirror_mode": {
    "name": "ipython",
    "version": 3
   },
   "file_extension": ".py",
   "mimetype": "text/x-python",
   "name": "python",
   "nbconvert_exporter": "python",
   "pygments_lexer": "ipython3",
   "version": "3.6.4"
  }
 },
 "nbformat": 4,
 "nbformat_minor": 2
}
