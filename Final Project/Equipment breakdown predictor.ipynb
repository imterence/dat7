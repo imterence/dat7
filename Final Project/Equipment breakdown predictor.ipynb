{
 "cells": [
  {
   "cell_type": "markdown",
   "metadata": {},
   "source": [
    "<img src=\"./images/topbanner.jpg\" style=\"margin: 1px; length: 800px\">\n",
    "by Terence Ong\n",
    "\n",
    "\n",
    "\n",
    "### Background information\n",
    "\n",
    "<b>\n",
    "Problem Statement:\n",
    "</b>\n",
    "Costs of getting a service personnel onboard the drilling rig are extremely high as they are paid on a day rate. At the current moment, their services are engaged on 6 monthly basis. If we are able to better predict when would an equipment breakdown, we can then better plan for the service personnel to come onboard only when there is a need.   \n",
    "\n"
   ]
  },
  {
   "cell_type": "markdown",
   "metadata": {},
   "source": [
    "### Preparing the Data\n"
   ]
  },
  {
   "cell_type": "code",
   "execution_count": 71,
   "metadata": {},
   "outputs": [],
   "source": [
    "# Declarations\n",
    "\n",
    "import matplotlib.pyplot as plt\n",
    "% matplotlib inline\n",
    "import pandas as pd\n",
    "import numpy as np\n",
    "import seaborn as sns\n",
    "from collections import defaultdict\n",
    "from sklearn.linear_model import LinearRegression\n",
    "from sklearn.linear_model import LogisticRegression\n",
    "from sklearn.cross_validation import train_test_split\n",
    "from sklearn import metrics\n",
    "from sklearn.model_selection import KFold\n",
    "from sklearn.model_selection import cross_val_score"
   ]
  },
  {
   "cell_type": "code",
   "execution_count": 72,
   "metadata": {},
   "outputs": [],
   "source": [
    "# Read in the data.\n",
    "path ='./data/equipmentbreakdown.csv'\n",
    "\n",
    "equip = pd.read_csv(path, encoding = \"ISO-8859-1\")"
   ]
  },
  {
   "cell_type": "code",
   "execution_count": 73,
   "metadata": {},
   "outputs": [
    {
     "data": {
      "text/html": [
       "<div>\n",
       "<style scoped>\n",
       "    .dataframe tbody tr th:only-of-type {\n",
       "        vertical-align: middle;\n",
       "    }\n",
       "\n",
       "    .dataframe tbody tr th {\n",
       "        vertical-align: top;\n",
       "    }\n",
       "\n",
       "    .dataframe thead th {\n",
       "        text-align: right;\n",
       "    }\n",
       "</style>\n",
       "<table border=\"1\" class=\"dataframe\">\n",
       "  <thead>\n",
       "    <tr style=\"text-align: right;\">\n",
       "      <th></th>\n",
       "      <th>REG_DATE</th>\n",
       "      <th>ERR_DESCR</th>\n",
       "      <th>WORK_DESCR_LO</th>\n",
       "      <th>PERFORMED_ACTION_LO</th>\n",
       "      <th>RIG</th>\n",
       "      <th>AGE_OF_RIG</th>\n",
       "      <th>PERFORMED_ACTION_ID</th>\n",
       "      <th>PERFORMED_ACTION</th>\n",
       "      <th>ERR_TYPE</th>\n",
       "      <th>ERROR_TYPE</th>\n",
       "      <th>MCH_CODE</th>\n",
       "      <th>MCH_CODE_DESCRIPTION</th>\n",
       "      <th>SFI</th>\n",
       "    </tr>\n",
       "  </thead>\n",
       "  <tbody>\n",
       "    <tr>\n",
       "      <th>0</th>\n",
       "      <td>13-Jul-15</td>\n",
       "      <td>Assistance to Fanø crane service.</td>\n",
       "      <td>na</td>\n",
       "      <td>Assist Fanø crane service.</td>\n",
       "      <td>J105</td>\n",
       "      <td>5361.0</td>\n",
       "      <td>12.0</td>\n",
       "      <td>Other</td>\n",
       "      <td>6.2</td>\n",
       "      <td>Other</td>\n",
       "      <td>11002484</td>\n",
       "      <td>CRANE NO.2; FWD;STBD</td>\n",
       "      <td>361</td>\n",
       "    </tr>\n",
       "    <tr>\n",
       "      <th>1</th>\n",
       "      <td>07-Jun-15</td>\n",
       "      <td>replace cables and plugs for test equip in mudlab</td>\n",
       "      <td>replace cables and plugs for test equip in mudlab</td>\n",
       "      <td>cables damaged</td>\n",
       "      <td>J105</td>\n",
       "      <td>5361.0</td>\n",
       "      <td>1.0</td>\n",
       "      <td>Replace</td>\n",
       "      <td>4.3</td>\n",
       "      <td>No power/voltage</td>\n",
       "      <td>12010582</td>\n",
       "      <td>THIRD PARTY EQUIPMENT - GROUP</td>\n",
       "      <td>180</td>\n",
       "    </tr>\n",
       "    <tr>\n",
       "      <th>2</th>\n",
       "      <td>08-Jun-15</td>\n",
       "      <td>Modifi bit braker</td>\n",
       "      <td>Modifi bit braker to fit new bit from Conoco</td>\n",
       "      <td>Modifi bit breaker to fit new bit from Conoco</td>\n",
       "      <td>J105</td>\n",
       "      <td>5361.0</td>\n",
       "      <td>1.0</td>\n",
       "      <td>Replace</td>\n",
       "      <td>1.0</td>\n",
       "      <td>General</td>\n",
       "      <td>10001235</td>\n",
       "      <td>BIT SUB; 7 5/8\" REG BOX X BOX</td>\n",
       "      <td>353</td>\n",
       "    </tr>\n",
       "    <tr>\n",
       "      <th>3</th>\n",
       "      <td>10-Nov-15</td>\n",
       "      <td>Assist Archer with electrical connections etc.</td>\n",
       "      <td>Hook up test repair</td>\n",
       "      <td>Assist 3rd party</td>\n",
       "      <td>J105</td>\n",
       "      <td>5361.0</td>\n",
       "      <td>7.0</td>\n",
       "      <td>Service</td>\n",
       "      <td>6.0</td>\n",
       "      <td>General</td>\n",
       "      <td>12010588</td>\n",
       "      <td>OFFICE CONTAINER</td>\n",
       "      <td>180</td>\n",
       "    </tr>\n",
       "    <tr>\n",
       "      <th>4</th>\n",
       "      <td>09-Jan-16</td>\n",
       "      <td>Hook up MWD container</td>\n",
       "      <td>Hook up MWD container</td>\n",
       "      <td>Hook up MWD container</td>\n",
       "      <td>J105</td>\n",
       "      <td>5361.0</td>\n",
       "      <td>12.0</td>\n",
       "      <td>Other</td>\n",
       "      <td>6.0</td>\n",
       "      <td>General</td>\n",
       "      <td>12010582</td>\n",
       "      <td>THIRD PARTY EQUIPMENT - GROUP</td>\n",
       "      <td>180</td>\n",
       "    </tr>\n",
       "  </tbody>\n",
       "</table>\n",
       "</div>"
      ],
      "text/plain": [
       "    REG_DATE                                          ERR_DESCR  \\\n",
       "0  13-Jul-15                  Assistance to Fanø crane service.   \n",
       "1  07-Jun-15  replace cables and plugs for test equip in mudlab   \n",
       "2  08-Jun-15                                  Modifi bit braker   \n",
       "3  10-Nov-15     Assist Archer with electrical connections etc.   \n",
       "4  09-Jan-16                              Hook up MWD container   \n",
       "\n",
       "                                       WORK_DESCR_LO  \\\n",
       "0                                                 na   \n",
       "1  replace cables and plugs for test equip in mudlab   \n",
       "2       Modifi bit braker to fit new bit from Conoco   \n",
       "3                                Hook up test repair   \n",
       "4                              Hook up MWD container   \n",
       "\n",
       "                             PERFORMED_ACTION_LO   RIG  AGE_OF_RIG  \\\n",
       "0                     Assist Fanø crane service.  J105      5361.0   \n",
       "1                                 cables damaged  J105      5361.0   \n",
       "2  Modifi bit breaker to fit new bit from Conoco  J105      5361.0   \n",
       "3                               Assist 3rd party  J105      5361.0   \n",
       "4                          Hook up MWD container  J105      5361.0   \n",
       "\n",
       "   PERFORMED_ACTION_ID PERFORMED_ACTION  ERR_TYPE        ERROR_TYPE  MCH_CODE  \\\n",
       "0                 12.0            Other       6.2             Other  11002484   \n",
       "1                  1.0          Replace       4.3  No power/voltage  12010582   \n",
       "2                  1.0          Replace       1.0           General  10001235   \n",
       "3                  7.0          Service       6.0           General  12010588   \n",
       "4                 12.0            Other       6.0           General  12010582   \n",
       "\n",
       "            MCH_CODE_DESCRIPTION  SFI  \n",
       "0           CRANE NO.2; FWD;STBD  361  \n",
       "1  THIRD PARTY EQUIPMENT - GROUP  180  \n",
       "2  BIT SUB; 7 5/8\" REG BOX X BOX  353  \n",
       "3               OFFICE CONTAINER  180  \n",
       "4  THIRD PARTY EQUIPMENT - GROUP  180  "
      ]
     },
     "execution_count": 73,
     "metadata": {},
     "output_type": "execute_result"
    }
   ],
   "source": [
    "equip.head()"
   ]
  },
  {
   "cell_type": "markdown",
   "metadata": {},
   "source": [
    "<div class=\"alert alert-success\" role=\"alert\">\n",
    "\n",
    "  1. Finding the frequency of breakdowns of each equipment\n",
    "</div>\n"
   ]
  },
  {
   "cell_type": "code",
   "execution_count": 74,
   "metadata": {},
   "outputs": [],
   "source": [
    "# Adding a new column to see the frequency of breakdown for each unique equipment\n",
    "\n",
    "equip['Count_of_breakdown'] = equip.groupby('MCH_CODE')['MCH_CODE'].transform('count')"
   ]
  },
  {
   "cell_type": "code",
   "execution_count": 75,
   "metadata": {},
   "outputs": [
    {
     "data": {
      "text/html": [
       "<div>\n",
       "<style scoped>\n",
       "    .dataframe tbody tr th:only-of-type {\n",
       "        vertical-align: middle;\n",
       "    }\n",
       "\n",
       "    .dataframe tbody tr th {\n",
       "        vertical-align: top;\n",
       "    }\n",
       "\n",
       "    .dataframe thead th {\n",
       "        text-align: right;\n",
       "    }\n",
       "</style>\n",
       "<table border=\"1\" class=\"dataframe\">\n",
       "  <thead>\n",
       "    <tr style=\"text-align: right;\">\n",
       "      <th></th>\n",
       "      <th>REG_DATE</th>\n",
       "      <th>ERR_DESCR</th>\n",
       "      <th>WORK_DESCR_LO</th>\n",
       "      <th>PERFORMED_ACTION_LO</th>\n",
       "      <th>RIG</th>\n",
       "      <th>AGE_OF_RIG</th>\n",
       "      <th>PERFORMED_ACTION_ID</th>\n",
       "      <th>PERFORMED_ACTION</th>\n",
       "      <th>ERR_TYPE</th>\n",
       "      <th>ERROR_TYPE</th>\n",
       "      <th>MCH_CODE</th>\n",
       "      <th>MCH_CODE_DESCRIPTION</th>\n",
       "      <th>SFI</th>\n",
       "      <th>Count_of_breakdown</th>\n",
       "    </tr>\n",
       "  </thead>\n",
       "  <tbody>\n",
       "    <tr>\n",
       "      <th>0</th>\n",
       "      <td>13-Jul-15</td>\n",
       "      <td>Assistance to Fanø crane service.</td>\n",
       "      <td>na</td>\n",
       "      <td>Assist Fanø crane service.</td>\n",
       "      <td>J105</td>\n",
       "      <td>5361.0</td>\n",
       "      <td>12.0</td>\n",
       "      <td>Other</td>\n",
       "      <td>6.2</td>\n",
       "      <td>Other</td>\n",
       "      <td>11002484</td>\n",
       "      <td>CRANE NO.2; FWD;STBD</td>\n",
       "      <td>361</td>\n",
       "      <td>42</td>\n",
       "    </tr>\n",
       "    <tr>\n",
       "      <th>1</th>\n",
       "      <td>07-Jun-15</td>\n",
       "      <td>replace cables and plugs for test equip in mudlab</td>\n",
       "      <td>replace cables and plugs for test equip in mudlab</td>\n",
       "      <td>cables damaged</td>\n",
       "      <td>J105</td>\n",
       "      <td>5361.0</td>\n",
       "      <td>1.0</td>\n",
       "      <td>Replace</td>\n",
       "      <td>4.3</td>\n",
       "      <td>No power/voltage</td>\n",
       "      <td>12010582</td>\n",
       "      <td>THIRD PARTY EQUIPMENT - GROUP</td>\n",
       "      <td>180</td>\n",
       "      <td>43</td>\n",
       "    </tr>\n",
       "    <tr>\n",
       "      <th>2</th>\n",
       "      <td>08-Jun-15</td>\n",
       "      <td>Modifi bit braker</td>\n",
       "      <td>Modifi bit braker to fit new bit from Conoco</td>\n",
       "      <td>Modifi bit breaker to fit new bit from Conoco</td>\n",
       "      <td>J105</td>\n",
       "      <td>5361.0</td>\n",
       "      <td>1.0</td>\n",
       "      <td>Replace</td>\n",
       "      <td>1.0</td>\n",
       "      <td>General</td>\n",
       "      <td>10001235</td>\n",
       "      <td>BIT SUB; 7 5/8\" REG BOX X BOX</td>\n",
       "      <td>353</td>\n",
       "      <td>1</td>\n",
       "    </tr>\n",
       "    <tr>\n",
       "      <th>3</th>\n",
       "      <td>10-Nov-15</td>\n",
       "      <td>Assist Archer with electrical connections etc.</td>\n",
       "      <td>Hook up test repair</td>\n",
       "      <td>Assist 3rd party</td>\n",
       "      <td>J105</td>\n",
       "      <td>5361.0</td>\n",
       "      <td>7.0</td>\n",
       "      <td>Service</td>\n",
       "      <td>6.0</td>\n",
       "      <td>General</td>\n",
       "      <td>12010588</td>\n",
       "      <td>OFFICE CONTAINER</td>\n",
       "      <td>180</td>\n",
       "      <td>1</td>\n",
       "    </tr>\n",
       "    <tr>\n",
       "      <th>4</th>\n",
       "      <td>09-Jan-16</td>\n",
       "      <td>Hook up MWD container</td>\n",
       "      <td>Hook up MWD container</td>\n",
       "      <td>Hook up MWD container</td>\n",
       "      <td>J105</td>\n",
       "      <td>5361.0</td>\n",
       "      <td>12.0</td>\n",
       "      <td>Other</td>\n",
       "      <td>6.0</td>\n",
       "      <td>General</td>\n",
       "      <td>12010582</td>\n",
       "      <td>THIRD PARTY EQUIPMENT - GROUP</td>\n",
       "      <td>180</td>\n",
       "      <td>43</td>\n",
       "    </tr>\n",
       "  </tbody>\n",
       "</table>\n",
       "</div>"
      ],
      "text/plain": [
       "    REG_DATE                                          ERR_DESCR  \\\n",
       "0  13-Jul-15                  Assistance to Fanø crane service.   \n",
       "1  07-Jun-15  replace cables and plugs for test equip in mudlab   \n",
       "2  08-Jun-15                                  Modifi bit braker   \n",
       "3  10-Nov-15     Assist Archer with electrical connections etc.   \n",
       "4  09-Jan-16                              Hook up MWD container   \n",
       "\n",
       "                                       WORK_DESCR_LO  \\\n",
       "0                                                 na   \n",
       "1  replace cables and plugs for test equip in mudlab   \n",
       "2       Modifi bit braker to fit new bit from Conoco   \n",
       "3                                Hook up test repair   \n",
       "4                              Hook up MWD container   \n",
       "\n",
       "                             PERFORMED_ACTION_LO   RIG  AGE_OF_RIG  \\\n",
       "0                     Assist Fanø crane service.  J105      5361.0   \n",
       "1                                 cables damaged  J105      5361.0   \n",
       "2  Modifi bit breaker to fit new bit from Conoco  J105      5361.0   \n",
       "3                               Assist 3rd party  J105      5361.0   \n",
       "4                          Hook up MWD container  J105      5361.0   \n",
       "\n",
       "   PERFORMED_ACTION_ID PERFORMED_ACTION  ERR_TYPE        ERROR_TYPE  MCH_CODE  \\\n",
       "0                 12.0            Other       6.2             Other  11002484   \n",
       "1                  1.0          Replace       4.3  No power/voltage  12010582   \n",
       "2                  1.0          Replace       1.0           General  10001235   \n",
       "3                  7.0          Service       6.0           General  12010588   \n",
       "4                 12.0            Other       6.0           General  12010582   \n",
       "\n",
       "            MCH_CODE_DESCRIPTION  SFI  Count_of_breakdown  \n",
       "0           CRANE NO.2; FWD;STBD  361                  42  \n",
       "1  THIRD PARTY EQUIPMENT - GROUP  180                  43  \n",
       "2  BIT SUB; 7 5/8\" REG BOX X BOX  353                   1  \n",
       "3               OFFICE CONTAINER  180                   1  \n",
       "4  THIRD PARTY EQUIPMENT - GROUP  180                  43  "
      ]
     },
     "execution_count": 75,
     "metadata": {},
     "output_type": "execute_result"
    }
   ],
   "source": [
    "equip.head()"
   ]
  },
  {
   "cell_type": "code",
   "execution_count": 76,
   "metadata": {},
   "outputs": [],
   "source": [
    "X = equip.drop('Count_of_breakdown', axis=1)\n",
    "y = pd.DataFrame(equip.Count_of_breakdown)"
   ]
  },
  {
   "cell_type": "code",
   "execution_count": 77,
   "metadata": {},
   "outputs": [
    {
     "data": {
      "text/plain": [
       "(40208, 13)"
      ]
     },
     "execution_count": 77,
     "metadata": {},
     "output_type": "execute_result"
    }
   ],
   "source": [
    "X.shape"
   ]
  },
  {
   "cell_type": "code",
   "execution_count": 78,
   "metadata": {},
   "outputs": [
    {
     "data": {
      "text/plain": [
       "(40208, 1)"
      ]
     },
     "execution_count": 78,
     "metadata": {},
     "output_type": "execute_result"
    }
   ],
   "source": [
    "y.shape"
   ]
  },
  {
   "cell_type": "code",
   "execution_count": 79,
   "metadata": {},
   "outputs": [
    {
     "data": {
      "text/plain": [
       "RangeIndex(start=0, stop=40208, step=1)"
      ]
     },
     "execution_count": 79,
     "metadata": {},
     "output_type": "execute_result"
    }
   ],
   "source": [
    "X.index"
   ]
  },
  {
   "cell_type": "code",
   "execution_count": 80,
   "metadata": {},
   "outputs": [
    {
     "data": {
      "text/plain": [
       "REG_DATE                   0\n",
       "ERR_DESCR                  0\n",
       "WORK_DESCR_LO           1848\n",
       "PERFORMED_ACTION_LO     3005\n",
       "RIG                        2\n",
       "AGE_OF_RIG                19\n",
       "PERFORMED_ACTION_ID     3989\n",
       "PERFORMED_ACTION        3250\n",
       "ERR_TYPE                3973\n",
       "ERROR_TYPE              3236\n",
       "MCH_CODE                   0\n",
       "MCH_CODE_DESCRIPTION      17\n",
       "SFI                        0\n",
       "dtype: int64"
      ]
     },
     "execution_count": 80,
     "metadata": {},
     "output_type": "execute_result"
    }
   ],
   "source": [
    "X.isnull().sum()"
   ]
  },
  {
   "cell_type": "code",
   "execution_count": 81,
   "metadata": {},
   "outputs": [
    {
     "data": {
      "text/plain": [
       "REG_DATE                 object\n",
       "ERR_DESCR                object\n",
       "WORK_DESCR_LO            object\n",
       "PERFORMED_ACTION_LO      object\n",
       "RIG                      object\n",
       "AGE_OF_RIG              float64\n",
       "PERFORMED_ACTION_ID     float64\n",
       "PERFORMED_ACTION         object\n",
       "ERR_TYPE                float64\n",
       "ERROR_TYPE               object\n",
       "MCH_CODE                  int64\n",
       "MCH_CODE_DESCRIPTION     object\n",
       "SFI                       int64\n",
       "dtype: object"
      ]
     },
     "execution_count": 81,
     "metadata": {},
     "output_type": "execute_result"
    }
   ],
   "source": [
    "X.dtypes"
   ]
  },
  {
   "cell_type": "code",
   "execution_count": 82,
   "metadata": {},
   "outputs": [
    {
     "data": {
      "text/html": [
       "<div>\n",
       "<style scoped>\n",
       "    .dataframe tbody tr th:only-of-type {\n",
       "        vertical-align: middle;\n",
       "    }\n",
       "\n",
       "    .dataframe tbody tr th {\n",
       "        vertical-align: top;\n",
       "    }\n",
       "\n",
       "    .dataframe thead th {\n",
       "        text-align: right;\n",
       "    }\n",
       "</style>\n",
       "<table border=\"1\" class=\"dataframe\">\n",
       "  <thead>\n",
       "    <tr style=\"text-align: right;\">\n",
       "      <th></th>\n",
       "      <th>REG_DATE</th>\n",
       "      <th>ERR_DESCR</th>\n",
       "      <th>WORK_DESCR_LO</th>\n",
       "      <th>PERFORMED_ACTION_LO</th>\n",
       "      <th>RIG</th>\n",
       "      <th>AGE_OF_RIG</th>\n",
       "      <th>PERFORMED_ACTION_ID</th>\n",
       "      <th>PERFORMED_ACTION</th>\n",
       "      <th>ERR_TYPE</th>\n",
       "      <th>ERROR_TYPE</th>\n",
       "      <th>MCH_CODE</th>\n",
       "      <th>MCH_CODE_DESCRIPTION</th>\n",
       "      <th>SFI</th>\n",
       "    </tr>\n",
       "  </thead>\n",
       "  <tbody>\n",
       "    <tr>\n",
       "      <th>count</th>\n",
       "      <td>40208</td>\n",
       "      <td>40208</td>\n",
       "      <td>38360</td>\n",
       "      <td>37203</td>\n",
       "      <td>40206</td>\n",
       "      <td>40189.000000</td>\n",
       "      <td>36219.000000</td>\n",
       "      <td>36958</td>\n",
       "      <td>36235.000000</td>\n",
       "      <td>36972</td>\n",
       "      <td>4.020800e+04</td>\n",
       "      <td>40191</td>\n",
       "      <td>40208.000000</td>\n",
       "    </tr>\n",
       "    <tr>\n",
       "      <th>unique</th>\n",
       "      <td>1382</td>\n",
       "      <td>37480</td>\n",
       "      <td>32305</td>\n",
       "      <td>32614</td>\n",
       "      <td>25</td>\n",
       "      <td>NaN</td>\n",
       "      <td>NaN</td>\n",
       "      <td>12</td>\n",
       "      <td>NaN</td>\n",
       "      <td>33</td>\n",
       "      <td>NaN</td>\n",
       "      <td>17740</td>\n",
       "      <td>NaN</td>\n",
       "    </tr>\n",
       "    <tr>\n",
       "      <th>top</th>\n",
       "      <td>05-Dec-16</td>\n",
       "      <td>Replace hose</td>\n",
       "      <td>.</td>\n",
       "      <td>.</td>\n",
       "      <td>J105</td>\n",
       "      <td>NaN</td>\n",
       "      <td>NaN</td>\n",
       "      <td>Replace</td>\n",
       "      <td>NaN</td>\n",
       "      <td>General</td>\n",
       "      <td>NaN</td>\n",
       "      <td>TOP DRIVE AND RETRACTABLE DOLLY</td>\n",
       "      <td>NaN</td>\n",
       "    </tr>\n",
       "    <tr>\n",
       "      <th>freq</th>\n",
       "      <td>200</td>\n",
       "      <td>55</td>\n",
       "      <td>509</td>\n",
       "      <td>560</td>\n",
       "      <td>4444</td>\n",
       "      <td>NaN</td>\n",
       "      <td>NaN</td>\n",
       "      <td>19532</td>\n",
       "      <td>NaN</td>\n",
       "      <td>12735</td>\n",
       "      <td>NaN</td>\n",
       "      <td>127</td>\n",
       "      <td>NaN</td>\n",
       "    </tr>\n",
       "    <tr>\n",
       "      <th>mean</th>\n",
       "      <td>NaN</td>\n",
       "      <td>NaN</td>\n",
       "      <td>NaN</td>\n",
       "      <td>NaN</td>\n",
       "      <td>NaN</td>\n",
       "      <td>3385.014755</td>\n",
       "      <td>3.613573</td>\n",
       "      <td>NaN</td>\n",
       "      <td>2.807341</td>\n",
       "      <td>NaN</td>\n",
       "      <td>1.142945e+07</td>\n",
       "      <td>NaN</td>\n",
       "      <td>484.528775</td>\n",
       "    </tr>\n",
       "    <tr>\n",
       "      <th>std</th>\n",
       "      <td>NaN</td>\n",
       "      <td>NaN</td>\n",
       "      <td>NaN</td>\n",
       "      <td>NaN</td>\n",
       "      <td>NaN</td>\n",
       "      <td>2598.321812</td>\n",
       "      <td>3.977835</td>\n",
       "      <td>NaN</td>\n",
       "      <td>1.894222</td>\n",
       "      <td>NaN</td>\n",
       "      <td>4.177843e+06</td>\n",
       "      <td>NaN</td>\n",
       "      <td>194.150358</td>\n",
       "    </tr>\n",
       "    <tr>\n",
       "      <th>min</th>\n",
       "      <td>NaN</td>\n",
       "      <td>NaN</td>\n",
       "      <td>NaN</td>\n",
       "      <td>NaN</td>\n",
       "      <td>NaN</td>\n",
       "      <td>825.000000</td>\n",
       "      <td>1.000000</td>\n",
       "      <td>NaN</td>\n",
       "      <td>1.000000</td>\n",
       "      <td>NaN</td>\n",
       "      <td>1.000124e+07</td>\n",
       "      <td>NaN</td>\n",
       "      <td>112.000000</td>\n",
       "    </tr>\n",
       "    <tr>\n",
       "      <th>25%</th>\n",
       "      <td>NaN</td>\n",
       "      <td>NaN</td>\n",
       "      <td>NaN</td>\n",
       "      <td>NaN</td>\n",
       "      <td>NaN</td>\n",
       "      <td>1435.000000</td>\n",
       "      <td>1.000000</td>\n",
       "      <td>NaN</td>\n",
       "      <td>1.100000</td>\n",
       "      <td>NaN</td>\n",
       "      <td>1.061617e+07</td>\n",
       "      <td>NaN</td>\n",
       "      <td>331.000000</td>\n",
       "    </tr>\n",
       "    <tr>\n",
       "      <th>50%</th>\n",
       "      <td>NaN</td>\n",
       "      <td>NaN</td>\n",
       "      <td>NaN</td>\n",
       "      <td>NaN</td>\n",
       "      <td>NaN</td>\n",
       "      <td>3169.000000</td>\n",
       "      <td>1.000000</td>\n",
       "      <td>NaN</td>\n",
       "      <td>2.400000</td>\n",
       "      <td>NaN</td>\n",
       "      <td>1.122080e+07</td>\n",
       "      <td>NaN</td>\n",
       "      <td>384.000000</td>\n",
       "    </tr>\n",
       "    <tr>\n",
       "      <th>75%</th>\n",
       "      <td>NaN</td>\n",
       "      <td>NaN</td>\n",
       "      <td>NaN</td>\n",
       "      <td>NaN</td>\n",
       "      <td>NaN</td>\n",
       "      <td>5117.000000</td>\n",
       "      <td>6.000000</td>\n",
       "      <td>NaN</td>\n",
       "      <td>4.000000</td>\n",
       "      <td>NaN</td>\n",
       "      <td>1.180429e+07</td>\n",
       "      <td>NaN</td>\n",
       "      <td>583.000000</td>\n",
       "    </tr>\n",
       "    <tr>\n",
       "      <th>max</th>\n",
       "      <td>NaN</td>\n",
       "      <td>NaN</td>\n",
       "      <td>NaN</td>\n",
       "      <td>NaN</td>\n",
       "      <td>NaN</td>\n",
       "      <td>11662.000000</td>\n",
       "      <td>12.000000</td>\n",
       "      <td>NaN</td>\n",
       "      <td>6.300000</td>\n",
       "      <td>NaN</td>\n",
       "      <td>1.210001e+08</td>\n",
       "      <td>NaN</td>\n",
       "      <td>985.000000</td>\n",
       "    </tr>\n",
       "  </tbody>\n",
       "</table>\n",
       "</div>"
      ],
      "text/plain": [
       "         REG_DATE     ERR_DESCR WORK_DESCR_LO PERFORMED_ACTION_LO    RIG  \\\n",
       "count       40208         40208         38360               37203  40206   \n",
       "unique       1382         37480         32305               32614     25   \n",
       "top     05-Dec-16  Replace hose             .                   .   J105   \n",
       "freq          200            55           509                 560   4444   \n",
       "mean          NaN           NaN           NaN                 NaN    NaN   \n",
       "std           NaN           NaN           NaN                 NaN    NaN   \n",
       "min           NaN           NaN           NaN                 NaN    NaN   \n",
       "25%           NaN           NaN           NaN                 NaN    NaN   \n",
       "50%           NaN           NaN           NaN                 NaN    NaN   \n",
       "75%           NaN           NaN           NaN                 NaN    NaN   \n",
       "max           NaN           NaN           NaN                 NaN    NaN   \n",
       "\n",
       "          AGE_OF_RIG  PERFORMED_ACTION_ID PERFORMED_ACTION      ERR_TYPE  \\\n",
       "count   40189.000000         36219.000000            36958  36235.000000   \n",
       "unique           NaN                  NaN               12           NaN   \n",
       "top              NaN                  NaN          Replace           NaN   \n",
       "freq             NaN                  NaN            19532           NaN   \n",
       "mean     3385.014755             3.613573              NaN      2.807341   \n",
       "std      2598.321812             3.977835              NaN      1.894222   \n",
       "min       825.000000             1.000000              NaN      1.000000   \n",
       "25%      1435.000000             1.000000              NaN      1.100000   \n",
       "50%      3169.000000             1.000000              NaN      2.400000   \n",
       "75%      5117.000000             6.000000              NaN      4.000000   \n",
       "max     11662.000000            12.000000              NaN      6.300000   \n",
       "\n",
       "       ERROR_TYPE      MCH_CODE             MCH_CODE_DESCRIPTION           SFI  \n",
       "count       36972  4.020800e+04                            40191  40208.000000  \n",
       "unique         33           NaN                            17740           NaN  \n",
       "top       General           NaN  TOP DRIVE AND RETRACTABLE DOLLY           NaN  \n",
       "freq        12735           NaN                              127           NaN  \n",
       "mean          NaN  1.142945e+07                              NaN    484.528775  \n",
       "std           NaN  4.177843e+06                              NaN    194.150358  \n",
       "min           NaN  1.000124e+07                              NaN    112.000000  \n",
       "25%           NaN  1.061617e+07                              NaN    331.000000  \n",
       "50%           NaN  1.122080e+07                              NaN    384.000000  \n",
       "75%           NaN  1.180429e+07                              NaN    583.000000  \n",
       "max           NaN  1.210001e+08                              NaN    985.000000  "
      ]
     },
     "execution_count": 82,
     "metadata": {},
     "output_type": "execute_result"
    }
   ],
   "source": [
    "X.describe(include=\"all\")"
   ]
  },
  {
   "cell_type": "code",
   "execution_count": 83,
   "metadata": {},
   "outputs": [
    {
     "data": {
      "text/plain": [
       "REG_DATE                 1382\n",
       "ERR_DESCR               37480\n",
       "WORK_DESCR_LO           32305\n",
       "PERFORMED_ACTION_LO     32614\n",
       "RIG                        25\n",
       "AGE_OF_RIG                 19\n",
       "PERFORMED_ACTION_ID        11\n",
       "PERFORMED_ACTION           12\n",
       "ERR_TYPE                   37\n",
       "ERROR_TYPE                 33\n",
       "MCH_CODE                22612\n",
       "MCH_CODE_DESCRIPTION    17740\n",
       "SFI                       250\n",
       "dtype: int64"
      ]
     },
     "execution_count": 83,
     "metadata": {},
     "output_type": "execute_result"
    }
   ],
   "source": [
    "#unique\n",
    "X.apply(pd.Series.nunique)"
   ]
  },
  {
   "cell_type": "markdown",
   "metadata": {},
   "source": [
    "<div class=\"alert alert-success\" role=\"alert\">\n",
    "\n",
    "  <p>2. Proving that the older the equipment, higher chance of it breaking down. I used age_of_rig instead of the actual age of equipment as I don't have the data of when the equipment was purchased.</p>\n",
    "  <hr>\n",
    "  <p class=\"mb-0\">A better way would be to look at the usage intensity of the equipment but I was unable to obtain those data. </p>\n",
    "</div>\n",
    "\n"
   ]
  },
  {
   "cell_type": "code",
   "execution_count": 84,
   "metadata": {},
   "outputs": [
    {
     "data": {
      "text/plain": [
       "Text(10.05,0.5,'Breakdown frequency')"
      ]
     },
     "execution_count": 84,
     "metadata": {},
     "output_type": "execute_result"
    },
    {
     "data": {
      "image/png": "[encoded data removed]",
      "text/plain": [
       "<matplotlib.figure.Figure at 0x15cef9b0>"
      ]
     },
     "metadata": {},
     "output_type": "display_data"
    }
   ],
   "source": [
    "sns.lmplot(x='AGE_OF_RIG', y='Count_of_breakdown', data=equip);\n",
    "\n",
    "plt.title('Age against Rate of breakdown')\n",
    "plt.xlabel('Age of rig (DAYS)')\n",
    "plt.ylabel('Breakdown frequency')\n"
   ]
  },
  {
   "cell_type": "code",
   "execution_count": 85,
   "metadata": {},
   "outputs": [
    {
     "data": {
      "image/png": "[encoded data removed]",
      "text/plain": [
       "<matplotlib.figure.Figure at 0x15ce7780>"
      ]
     },
     "metadata": {},
     "output_type": "display_data"
    }
   ],
   "source": [
    "fig, ax = plt.subplots(figsize=(20,  10))\n",
    "equip.boxplot(['Count_of_breakdown'], 'AGE_OF_RIG', ax);"
   ]
  },
  {
   "cell_type": "markdown",
   "metadata": {},
   "source": [
    "<div class=\"alert alert-success\" role=\"alert\">\n",
    "Proves the point that age of equipment does not affect rate of breakdown. There is a lot of outliners for each rig and it will be better to see if these outliners belong to a specific SFI (usage intensity) <br/>\n",
    "\n",
    "  <p>3. Checking equipment in which SFI (Skipsteknisk Forskningsinstitutt) has a higher occurance of breaking down. I would assume it is <b>SFI 3</b> as those are the drilling equipment.\n",
    "<p>\n",
    "<i>Sidenote: The SFI Group System is the most widely used classification system for the maritime and offshore industry worldwide. It is an international standard, which provides a functional subdivision of technical and financial ship or rig information.</i>\n",
    "    \n",
    "</div>"
   ]
  },
  {
   "cell_type": "code",
   "execution_count": 86,
   "metadata": {},
   "outputs": [
    {
     "data": {
      "image/png": "[encoded data removed]",
      "text/plain": [
       "<matplotlib.figure.Figure at 0x16661ef0>"
      ]
     },
     "metadata": {},
     "output_type": "display_data"
    }
   ],
   "source": [
    "# checking to see if there is a fair amount of equipment in each SFI\n",
    "equip['SFI'].value_counts()[:20].plot(kind='bar');"
   ]
  },
  {
   "cell_type": "code",
   "execution_count": 87,
   "metadata": {},
   "outputs": [
    {
     "data": {
      "text/plain": [
       "<seaborn.axisgrid.FacetGrid at 0x169b54a8>"
      ]
     },
     "execution_count": 87,
     "metadata": {},
     "output_type": "execute_result"
    },
    {
     "data": {
      "image/png": "[encoded data removed]",
      "text/plain": [
       "<matplotlib.figure.Figure at 0x169b5358>"
      ]
     },
     "metadata": {},
     "output_type": "display_data"
    }
   ],
   "source": [
    "sns.lmplot(x='SFI', y='Count_of_breakdown', data=equip)\n"
   ]
  },
  {
   "cell_type": "code",
   "execution_count": 88,
   "metadata": {},
   "outputs": [],
   "source": [
    "#Regrouping my SFI\n",
    "\n",
    "equip['SFI_Str'] = equip['SFI'].astype(str).str[0]\n",
    "\n"
   ]
  },
  {
   "cell_type": "code",
   "execution_count": null,
   "metadata": {},
   "outputs": [],
   "source": []
  },
  {
   "cell_type": "code",
   "execution_count": 91,
   "metadata": {},
   "outputs": [
    {
     "data": {
      "image/png": "[encoded data removed]",
      "text/plain": [
       "<matplotlib.figure.Figure at 0x175d5a90>"
      ]
     },
     "metadata": {},
     "output_type": "display_data"
    }
   ],
   "source": [
    "fig, ax = plt.subplots(figsize=(20, 10))\n",
    "#equip.boxplot(['SFI'], 'Count_of_breakdown', ax);\n",
    "\n",
    "equip.boxplot(['Count_of_breakdown'], 'SFI_Str', ax);"
   ]
  },
  {
   "cell_type": "markdown",
   "metadata": {},
   "source": [
    "<div class=\"alert alert-success\" role=\"alert\">\n",
    "  <h4 class=\"alert-heading\">I was right!</h4>\n",
    "  <p>SFI 3 has a higher rate of breakdown due to the type of equipment in that classification - Drilling equipment. There are also a lot of outliners on SFI 3. It will be good to look at this group of equipment and find out why they are breaking down more often. SFI 6 is another area that I can investigate further\n",
    "</div>"
   ]
  },
  {
   "cell_type": "code",
   "execution_count": 17,
   "metadata": {},
   "outputs": [
    {
     "data": {
      "image/png": "[encoded data removed]",
      "text/plain": [
       "<matplotlib.figure.Figure at 0x12dd3766780>"
      ]
     },
     "metadata": {},
     "output_type": "display_data"
    }
   ],
   "source": [
    "#What kind of breakdowns?\n",
    "equip.plot(kind='scatter', x='ERR_TYPE', y='Count_of_breakdown');\n"
   ]
  },
  {
   "cell_type": "code",
   "execution_count": 33,
   "metadata": {},
   "outputs": [
    {
     "data": {
      "image/png": "[encoded data removed]",
      "text/plain": [
       "<matplotlib.figure.Figure at 0x12dd4066cc0>"
      ]
     },
     "metadata": {},
     "output_type": "display_data"
    }
   ],
   "source": [
    "equip['ERROR_TYPE'].value_counts()[:10].plot(kind='barh');"
   ]
  },
  {
   "cell_type": "code",
   "execution_count": 19,
   "metadata": {},
   "outputs": [
    {
     "name": "stdout",
     "output_type": "stream",
     "text": [
      "The intercept is:  [9.40228156]\n",
      "The coefficient is  [[-0.00740568]]\n"
     ]
    }
   ],
   "source": [
    "lr = LinearRegression()\n",
    "\n",
    "feature_cols = ['SFI']\n",
    "X_feat = X[feature_cols]\n",
    "\n",
    "lr.fit(X_feat,y)\n",
    "\n",
    "print(\"The intercept is: \", lr.intercept_)\n",
    "print(\"The coefficient is \", lr.coef_)\n"
   ]
  },
  {
   "cell_type": "code",
   "execution_count": 20,
   "metadata": {},
   "outputs": [],
   "source": [
    "y_pred = lr.predict(X_feat)"
   ]
  },
  {
   "cell_type": "code",
   "execution_count": 21,
   "metadata": {},
   "outputs": [
    {
     "data": {
      "image/png": "[encoded data removed]",
      "text/plain": [
       "<matplotlib.figure.Figure at 0x12dd37eeeb8>"
      ]
     },
     "metadata": {},
     "output_type": "display_data"
    }
   ],
   "source": [
    "plt.scatter(y, y_pred);"
   ]
  },
  {
   "cell_type": "code",
   "execution_count": 22,
   "metadata": {},
   "outputs": [
    {
     "name": "stdout",
     "output_type": "stream",
     "text": [
      "RMSE:  9.464786963633381\n"
     ]
    }
   ],
   "source": [
    "print(\"RMSE: \", np.sqrt(metrics.mean_squared_error(y, y_pred)))"
   ]
  },
  {
   "cell_type": "code",
   "execution_count": 23,
   "metadata": {},
   "outputs": [
    {
     "name": "stdout",
     "output_type": "stream",
     "text": [
      "(28145, 1)\n",
      "(12063, 1)\n",
      "(28145, 1)\n",
      "(12063, 1)\n"
     ]
    },
    {
     "data": {
      "text/plain": [
       "LinearRegression(copy_X=True, fit_intercept=True, n_jobs=1, normalize=False)"
      ]
     },
     "execution_count": 23,
     "metadata": {},
     "output_type": "execute_result"
    }
   ],
   "source": [
    "# create train and test 70% and 30% split\n",
    "from sklearn.cross_validation import train_test_split\n",
    "from sklearn import metrics\n",
    "\n",
    "train_x, test_x, train_y, test_y = train_test_split(X_feat,y, test_size = 0.3, random_state=1)\n",
    "print(train_x.shape)\n",
    "print(test_x.shape)\n",
    "print(train_y.shape)\n",
    "print(test_y.shape)\n",
    "\n",
    "lr.fit(train_x, train_y)"
   ]
  },
  {
   "cell_type": "code",
   "execution_count": 24,
   "metadata": {},
   "outputs": [
    {
     "name": "stdout",
     "output_type": "stream",
     "text": [
      "RMSE: 9.516133562833797\n"
     ]
    }
   ],
   "source": [
    "y_predict = lr.predict(test_x)\n",
    "print('RMSE:', np.sqrt(metrics.mean_squared_error(test_y, y_predict)))"
   ]
  },
  {
   "cell_type": "code",
   "execution_count": 25,
   "metadata": {},
   "outputs": [
    {
     "name": "stdout",
     "output_type": "stream",
     "text": [
      "RMSE: 6.760081780612289\n"
     ]
    }
   ],
   "source": [
    "kf = KFold(n_splits=5)\n",
    "\n",
    "for train, test in kf.split(X_feat):\n",
    "    #print(\"TRAIN:\", train, \"TEST:\", test)\n",
    "    X_train, X_test = np.array(X_feat)[train], np.array(X_feat)[test]\n",
    "    y_train, y_test = np.array(y)[train], np.array(y)[test]\n",
    "\n",
    "lr.fit(X_train, y_train)\n",
    "predict = lr.predict(X_test)\n",
    "\n",
    "print('RMSE:', np.sqrt(metrics.mean_squared_error(y_test, predict)))"
   ]
  },
  {
   "cell_type": "markdown",
   "metadata": {},
   "source": [
    "<div class=\"alert alert-success\" role=\"alert\">\n",
    "  <p> 4. Changing to logistic regression and classifying if an equipment in a certain SFI will breakdown or not. \n",
    "</div>"
   ]
  },
  {
   "cell_type": "code",
   "execution_count": 26,
   "metadata": {},
   "outputs": [
    {
     "data": {
      "text/html": [
       "<div>\n",
       "<style scoped>\n",
       "    .dataframe tbody tr th:only-of-type {\n",
       "        vertical-align: middle;\n",
       "    }\n",
       "\n",
       "    .dataframe tbody tr th {\n",
       "        vertical-align: top;\n",
       "    }\n",
       "\n",
       "    .dataframe thead th {\n",
       "        text-align: right;\n",
       "    }\n",
       "</style>\n",
       "<table border=\"1\" class=\"dataframe\">\n",
       "  <thead>\n",
       "    <tr style=\"text-align: right;\">\n",
       "      <th></th>\n",
       "      <th>Count_of_breakdown</th>\n",
       "    </tr>\n",
       "  </thead>\n",
       "  <tbody>\n",
       "    <tr>\n",
       "      <th>count</th>\n",
       "      <td>40208.000000</td>\n",
       "    </tr>\n",
       "    <tr>\n",
       "      <th>mean</th>\n",
       "      <td>5.814017</td>\n",
       "    </tr>\n",
       "    <tr>\n",
       "      <th>std</th>\n",
       "      <td>9.573491</td>\n",
       "    </tr>\n",
       "    <tr>\n",
       "      <th>min</th>\n",
       "      <td>1.000000</td>\n",
       "    </tr>\n",
       "    <tr>\n",
       "      <th>25%</th>\n",
       "      <td>1.000000</td>\n",
       "    </tr>\n",
       "    <tr>\n",
       "      <th>50%</th>\n",
       "      <td>2.000000</td>\n",
       "    </tr>\n",
       "    <tr>\n",
       "      <th>75%</th>\n",
       "      <td>6.000000</td>\n",
       "    </tr>\n",
       "    <tr>\n",
       "      <th>max</th>\n",
       "      <td>72.000000</td>\n",
       "    </tr>\n",
       "  </tbody>\n",
       "</table>\n",
       "</div>"
      ],
      "text/plain": [
       "       Count_of_breakdown\n",
       "count        40208.000000\n",
       "mean             5.814017\n",
       "std              9.573491\n",
       "min              1.000000\n",
       "25%              1.000000\n",
       "50%              2.000000\n",
       "75%              6.000000\n",
       "max             72.000000"
      ]
     },
     "execution_count": 26,
     "metadata": {},
     "output_type": "execute_result"
    }
   ],
   "source": [
    "y.describe()"
   ]
  },
  {
   "cell_type": "code",
   "execution_count": 27,
   "metadata": {},
   "outputs": [],
   "source": [
    "# Mean of breakdowns is 5.8\n",
    "\n",
    "# Anything above that, i will just mark it as 1 where it has a higher chance to breakdown, the rest = 0 \n",
    "#where it has a lesser chance of breakdown\n",
    "\n",
    "def addBreakdownProb(row):\n",
    "    if row['Count_of_breakdown'] >= 5.8:\n",
    "        val = 1\n",
    "    else:\n",
    "        val = 0\n",
    "    return val\n",
    "\n",
    "# Adding new column 'Breakdown_prob'\n",
    "\n",
    "equip['Breakdown_prob'] = equip.apply(addBreakdownProb, axis=1)"
   ]
  },
  {
   "cell_type": "code",
   "execution_count": 28,
   "metadata": {},
   "outputs": [
    {
     "data": {
      "text/html": [
       "<div>\n",
       "<style scoped>\n",
       "    .dataframe tbody tr th:only-of-type {\n",
       "        vertical-align: middle;\n",
       "    }\n",
       "\n",
       "    .dataframe tbody tr th {\n",
       "        vertical-align: top;\n",
       "    }\n",
       "\n",
       "    .dataframe thead th {\n",
       "        text-align: right;\n",
       "    }\n",
       "</style>\n",
       "<table border=\"1\" class=\"dataframe\">\n",
       "  <thead>\n",
       "    <tr style=\"text-align: right;\">\n",
       "      <th></th>\n",
       "      <th>REG_DATE</th>\n",
       "      <th>ERR_DESCR</th>\n",
       "      <th>WORK_DESCR_LO</th>\n",
       "      <th>PERFORMED_ACTION_LO</th>\n",
       "      <th>RIG</th>\n",
       "      <th>AGE_OF_RIG</th>\n",
       "      <th>PERFORMED_ACTION_ID</th>\n",
       "      <th>PERFORMED_ACTION</th>\n",
       "      <th>ERR_TYPE</th>\n",
       "      <th>ERROR_TYPE</th>\n",
       "      <th>MCH_CODE</th>\n",
       "      <th>MCH_CODE_DESCRIPTION</th>\n",
       "      <th>SFI</th>\n",
       "      <th>Count_of_breakdown</th>\n",
       "      <th>Breakdown_prob</th>\n",
       "    </tr>\n",
       "  </thead>\n",
       "  <tbody>\n",
       "    <tr>\n",
       "      <th>0</th>\n",
       "      <td>13-Jul-15</td>\n",
       "      <td>Assistance to Fanø crane service.</td>\n",
       "      <td>na</td>\n",
       "      <td>Assist Fanø crane service.</td>\n",
       "      <td>J105</td>\n",
       "      <td>5361.0</td>\n",
       "      <td>12.0</td>\n",
       "      <td>Other</td>\n",
       "      <td>6.2</td>\n",
       "      <td>Other</td>\n",
       "      <td>11002484</td>\n",
       "      <td>CRANE NO.2; FWD;STBD</td>\n",
       "      <td>361</td>\n",
       "      <td>42</td>\n",
       "      <td>1</td>\n",
       "    </tr>\n",
       "    <tr>\n",
       "      <th>1</th>\n",
       "      <td>07-Jun-15</td>\n",
       "      <td>replace cables and plugs for test equip in mudlab</td>\n",
       "      <td>replace cables and plugs for test equip in mudlab</td>\n",
       "      <td>cables damaged</td>\n",
       "      <td>J105</td>\n",
       "      <td>5361.0</td>\n",
       "      <td>1.0</td>\n",
       "      <td>Replace</td>\n",
       "      <td>4.3</td>\n",
       "      <td>No power/voltage</td>\n",
       "      <td>12010582</td>\n",
       "      <td>THIRD PARTY EQUIPMENT - GROUP</td>\n",
       "      <td>180</td>\n",
       "      <td>43</td>\n",
       "      <td>1</td>\n",
       "    </tr>\n",
       "    <tr>\n",
       "      <th>2</th>\n",
       "      <td>08-Jun-15</td>\n",
       "      <td>Modifi bit braker</td>\n",
       "      <td>Modifi bit braker to fit new bit from Conoco</td>\n",
       "      <td>Modifi bit breaker to fit new bit from Conoco</td>\n",
       "      <td>J105</td>\n",
       "      <td>5361.0</td>\n",
       "      <td>1.0</td>\n",
       "      <td>Replace</td>\n",
       "      <td>1.0</td>\n",
       "      <td>General</td>\n",
       "      <td>10001235</td>\n",
       "      <td>BIT SUB; 7 5/8\" REG BOX X BOX</td>\n",
       "      <td>353</td>\n",
       "      <td>1</td>\n",
       "      <td>0</td>\n",
       "    </tr>\n",
       "    <tr>\n",
       "      <th>3</th>\n",
       "      <td>10-Nov-15</td>\n",
       "      <td>Assist Archer with electrical connections etc.</td>\n",
       "      <td>Hook up test repair</td>\n",
       "      <td>Assist 3rd party</td>\n",
       "      <td>J105</td>\n",
       "      <td>5361.0</td>\n",
       "      <td>7.0</td>\n",
       "      <td>Service</td>\n",
       "      <td>6.0</td>\n",
       "      <td>General</td>\n",
       "      <td>12010588</td>\n",
       "      <td>OFFICE CONTAINER</td>\n",
       "      <td>180</td>\n",
       "      <td>1</td>\n",
       "      <td>0</td>\n",
       "    </tr>\n",
       "    <tr>\n",
       "      <th>4</th>\n",
       "      <td>09-Jan-16</td>\n",
       "      <td>Hook up MWD container</td>\n",
       "      <td>Hook up MWD container</td>\n",
       "      <td>Hook up MWD container</td>\n",
       "      <td>J105</td>\n",
       "      <td>5361.0</td>\n",
       "      <td>12.0</td>\n",
       "      <td>Other</td>\n",
       "      <td>6.0</td>\n",
       "      <td>General</td>\n",
       "      <td>12010582</td>\n",
       "      <td>THIRD PARTY EQUIPMENT - GROUP</td>\n",
       "      <td>180</td>\n",
       "      <td>43</td>\n",
       "      <td>1</td>\n",
       "    </tr>\n",
       "  </tbody>\n",
       "</table>\n",
       "</div>"
      ],
      "text/plain": [
       "    REG_DATE                                          ERR_DESCR  \\\n",
       "0  13-Jul-15                  Assistance to Fanø crane service.   \n",
       "1  07-Jun-15  replace cables and plugs for test equip in mudlab   \n",
       "2  08-Jun-15                                  Modifi bit braker   \n",
       "3  10-Nov-15     Assist Archer with electrical connections etc.   \n",
       "4  09-Jan-16                              Hook up MWD container   \n",
       "\n",
       "                                       WORK_DESCR_LO  \\\n",
       "0                                                 na   \n",
       "1  replace cables and plugs for test equip in mudlab   \n",
       "2       Modifi bit braker to fit new bit from Conoco   \n",
       "3                                Hook up test repair   \n",
       "4                              Hook up MWD container   \n",
       "\n",
       "                             PERFORMED_ACTION_LO   RIG  AGE_OF_RIG  \\\n",
       "0                     Assist Fanø crane service.  J105      5361.0   \n",
       "1                                 cables damaged  J105      5361.0   \n",
       "2  Modifi bit breaker to fit new bit from Conoco  J105      5361.0   \n",
       "3                               Assist 3rd party  J105      5361.0   \n",
       "4                          Hook up MWD container  J105      5361.0   \n",
       "\n",
       "   PERFORMED_ACTION_ID PERFORMED_ACTION  ERR_TYPE        ERROR_TYPE  MCH_CODE  \\\n",
       "0                 12.0            Other       6.2             Other  11002484   \n",
       "1                  1.0          Replace       4.3  No power/voltage  12010582   \n",
       "2                  1.0          Replace       1.0           General  10001235   \n",
       "3                  7.0          Service       6.0           General  12010588   \n",
       "4                 12.0            Other       6.0           General  12010582   \n",
       "\n",
       "            MCH_CODE_DESCRIPTION  SFI  Count_of_breakdown  Breakdown_prob  \n",
       "0           CRANE NO.2; FWD;STBD  361                  42               1  \n",
       "1  THIRD PARTY EQUIPMENT - GROUP  180                  43               1  \n",
       "2  BIT SUB; 7 5/8\" REG BOX X BOX  353                   1               0  \n",
       "3               OFFICE CONTAINER  180                   1               0  \n",
       "4  THIRD PARTY EQUIPMENT - GROUP  180                  43               1  "
      ]
     },
     "execution_count": 28,
     "metadata": {},
     "output_type": "execute_result"
    }
   ],
   "source": [
    "equip.head()"
   ]
  },
  {
   "cell_type": "code",
   "execution_count": 29,
   "metadata": {},
   "outputs": [
    {
     "name": "stdout",
     "output_type": "stream",
     "text": [
      "Accuracy of logistic regression classifier on test set: 0.75\n"
     ]
    }
   ],
   "source": [
    "logreg = LogisticRegression()\n",
    "\n",
    "\n",
    "feature_column = ['SFI']\n",
    "X = equip[feature_column]\n",
    "y = equip.Breakdown_prob\n",
    "\n",
    "\n",
    "X_train, X_test, y_train, y_test = train_test_split(X, y, test_size=0.3, random_state=0)\n",
    "logreg.fit(X_train, y_train)\n",
    "\n",
    "y_pred = logreg.predict(X_test)\n",
    "\n",
    "print('Accuracy of logistic regression classifier on test set: {:.2f}'.format(logreg.score(X_test, y_test)))\n",
    "#logreg.fit(X,y)\n",
    "#y_pred = logreg.predict(X)"
   ]
  },
  {
   "cell_type": "code",
   "execution_count": 30,
   "metadata": {},
   "outputs": [
    {
     "name": "stdout",
     "output_type": "stream",
     "text": [
      "Average accuracy of 10-fold cross validation: 0.749\n"
     ]
    }
   ],
   "source": [
    "kfold = KFold(n_splits=10, random_state=7)\n",
    "crossv = LogisticRegression()\n",
    "\n",
    "results = cross_val_score(crossv, X_train, y_train, cv=kfold, scoring='accuracy')\n",
    "print(\"Average accuracy of 10-fold cross validation: %.3f\" %(results.mean()))"
   ]
  },
  {
   "cell_type": "markdown",
   "metadata": {},
   "source": [
    "<div class=\"alert alert-success\" role=\"alert\">\n",
    "  <p> Conclusion: Average accuracy is very close to the Logistic Regression model accuracy, so the model generalizes well\n",
    "</div>"
   ]
  },
  {
   "cell_type": "code",
   "execution_count": null,
   "metadata": {},
   "outputs": [],
   "source": []
  }
 ],
 "metadata": {
  "kernelspec": {
   "display_name": "Python 3",
   "language": "python",
   "name": "python3"
  },
  "language_info": {
   "codemirror_mode": {
    "name": "ipython",
    "version": 3
   },
   "file_extension": ".py",
   "mimetype": "text/x-python",
   "name": "python",
   "nbconvert_exporter": "python",
   "pygments_lexer": "ipython3",
   "version": "3.6.4"
  }
 },
 "nbformat": 4,
 "nbformat_minor": 2
}
