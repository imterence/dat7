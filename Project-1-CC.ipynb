{
 "cells": [
  {
   "cell_type": "markdown",
   "metadata": {},
   "source": [
    "<img src=\"http://imgur.com/1ZcRyrc.png\" style=\"float: left; margin: 20px; height: 55px\">\n",
    "\n",
    "# Project 1: Python Coding Exercises\n",
    "\n",
    "_Authors: Joseph Nelson (DC) _\n",
    "\n",
    "---"
   ]
  },
  {
   "cell_type": "markdown",
   "metadata": {},
   "source": [
    "The following code challenges are drawn from common exercises used in technical interviews.\n",
    "\n",
    "Note that there may be several ways to approach each challenge!"
   ]
  },
  {
   "cell_type": "markdown",
   "metadata": {},
   "source": [
    "### Challenge 1.1: Largest Palindrome\n",
    "A palindromic number reads the same both ways. For example, 1234321 is a palindrome. The largest palindrome made from the product of two two-digit numbers is 9009 = 91 × 99. Find the largest palindrome made from the product of two three-digit numbers."
   ]
  },
  {
   "cell_type": "code",
   "execution_count": 1,
   "metadata": {},
   "outputs": [
    {
     "name": "stdout",
     "output_type": "stream",
     "text": [
      "906609\n"
     ]
    }
   ],
   "source": [
    "num1 = 1000 #max range of input\n",
    "product = []\n",
    "\n",
    "for i in range(100,num1):\n",
    "    for k in range(100,i):\n",
    "        answer = i * k\n",
    "        reverse_answer = str(answer)[::-1]\n",
    "        \n",
    "        if str(answer) == reverse_answer:\n",
    "            product.append(answer)\n",
    "\n",
    "            \n",
    "print(max(product))\n",
    "\n",
    "\n",
    "         \n"
   ]
  },
  {
   "cell_type": "markdown",
   "metadata": {},
   "source": [
    "\n",
    "### Challenge 1.2: Summation of Primes\n",
    "The sum of the primes below 10 is 2 + 3 + 5 + 7 = 17. Find the sum of all the primes below 2,000."
   ]
  },
  {
   "cell_type": "code",
   "execution_count": 2,
   "metadata": {},
   "outputs": [
    {
     "name": "stdout",
     "output_type": "stream",
     "text": [
      "277050\n"
     ]
    }
   ],
   "source": [
    "num2 = 2000\n",
    "primelist = []\n",
    "\n",
    "for p in range(2, num2):\n",
    "    for i in range(2, p):\n",
    "        if p % i == 0:\n",
    "            break #not prime, break loop.\n",
    "    else:\n",
    "        primelist.append(p)\n",
    "\n",
    "print(sum(primelist))\n"
   ]
  },
  {
   "cell_type": "markdown",
   "metadata": {},
   "source": [
    "### Challenge 1.3: Multiples of 3 and 5\n",
    "If we list all of the natural numbers below 10 that are multiples of 3 or 5, we get 3, 5, 6, and 9. The sum of these multiples is 23. Find the sum of all the multiples of 3 and 5 below 1,000."
   ]
  },
  {
   "cell_type": "code",
   "execution_count": 39,
   "metadata": {},
   "outputs": [
    {
     "name": "stdout",
     "output_type": "stream",
     "text": [
      "233168\n"
     ]
    }
   ],
   "source": [
    "num3 = 1000\n",
    "multipleof3or5 = []\n",
    "\n",
    "for i in range(1,num3):\n",
    "    if (i % 3 == 0 or i % 5 == 0):\n",
    "        multipleof3or5.append(i)\n",
    "\n",
    "print(sum(multipleof3or5))\n",
    "\n"
   ]
  },
  {
   "cell_type": "markdown",
   "metadata": {},
   "source": [
    "### Challenge 2: FizzBuzz\n",
    "Write a program that prints all of the numbers from 1 to 100. For multiples of 3, instead of the number, print \"Fizz;\" for multiples of 5, print \"Buzz.\" For numbers that are multiples of both 3 and 5, print \"FizzBuzz.\" Bonus: If that's too easy, create three unique solutions. Sometimes you'll encounter unexpected constraints, so make sure you're able to think creatively!"
   ]
  },
  {
   "cell_type": "code",
   "execution_count": 46,
   "metadata": {},
   "outputs": [
    {
     "name": "stdout",
     "output_type": "stream",
     "text": [
      "1\n",
      "2\n",
      "Fizz\n",
      "4\n",
      "Buzz\n",
      "Fizz\n",
      "7\n",
      "8\n",
      "Fizz\n",
      "Buzz\n",
      "11\n",
      "Fizz\n",
      "13\n",
      "14\n",
      "FizzBuzz\n",
      "16\n",
      "17\n",
      "Fizz\n",
      "19\n",
      "Buzz\n",
      "Fizz\n",
      "22\n",
      "23\n",
      "Fizz\n",
      "Buzz\n",
      "26\n",
      "Fizz\n",
      "28\n",
      "29\n",
      "FizzBuzz\n",
      "31\n",
      "32\n",
      "Fizz\n",
      "34\n",
      "Buzz\n",
      "Fizz\n",
      "37\n",
      "38\n",
      "Fizz\n",
      "Buzz\n",
      "41\n",
      "Fizz\n",
      "43\n",
      "44\n",
      "FizzBuzz\n",
      "46\n",
      "47\n",
      "Fizz\n",
      "49\n",
      "Buzz\n",
      "Fizz\n",
      "52\n",
      "53\n",
      "Fizz\n",
      "Buzz\n",
      "56\n",
      "Fizz\n",
      "58\n",
      "59\n",
      "FizzBuzz\n",
      "61\n",
      "62\n",
      "Fizz\n",
      "64\n",
      "Buzz\n",
      "Fizz\n",
      "67\n",
      "68\n",
      "Fizz\n",
      "Buzz\n",
      "71\n",
      "Fizz\n",
      "73\n",
      "74\n",
      "FizzBuzz\n",
      "76\n",
      "77\n",
      "Fizz\n",
      "79\n",
      "Buzz\n",
      "Fizz\n",
      "82\n",
      "83\n",
      "Fizz\n",
      "Buzz\n",
      "86\n",
      "Fizz\n",
      "88\n",
      "89\n",
      "FizzBuzz\n",
      "91\n",
      "92\n",
      "Fizz\n",
      "94\n",
      "Buzz\n",
      "Fizz\n",
      "97\n",
      "98\n",
      "Fizz\n",
      "Buzz\n"
     ]
    }
   ],
   "source": [
    "num4 = 101\n",
    "\n",
    "for i in range(1,num4):\n",
    "    if (i % 3 == 0 and i % 5 == 0):\n",
    "        print(\"FizzBuzz\")\n",
    "    elif (i % 3 == 0):\n",
    "        print(\"Fizz\")\n",
    "    elif (i % 5 == 0):\n",
    "        print(\"Buzz\")\n",
    "    else:\n",
    "        print(i)       \n",
    "\n",
    "#Alternate. Not my idea but interesting way of getting the same result. \n",
    "#print(\"\".join([\"Fizz\"*(i%3==0)+\"Buzz\"*(i%5==0) or str(i) for i in range(1,101)]))\n"
   ]
  },
  {
   "cell_type": "markdown",
   "metadata": {},
   "source": [
    "### Challenge 3: String Compressor\n",
    "Implement a method to perform basic string compression using the counts of repeated characters. (This is called run-length encoding.) For example, the string \"aabcccccaaa\" would become a2b1c5a3. If the “compressed” string would not become smaller than the original string, your method should return the original string. You can assume the string has only uppercase and lowercase letters (a–z). Specify whether your solution is case sensitive or case insensitive and what you would need to change to make it the other."
   ]
  },
  {
   "cell_type": "code",
   "execution_count": 4,
   "metadata": {},
   "outputs": [
    {
     "name": "stdout",
     "output_type": "stream",
     "text": [
      "hel2o4m5e3\n",
      "helloomee\n",
      "h4el7o2me4\n"
     ]
    }
   ],
   "source": [
    "def compressor(string):\n",
    "    \n",
    "    # case insensitive. Comment out this line to make it case sensitive. \n",
    "    string = string.lower()\n",
    "\n",
    "    \n",
    "    output = \"\"\n",
    "    output += string[0]\n",
    "    count = 1\n",
    "\n",
    "    \n",
    "    for i in range(len(string)-1):    #iterate through the string except last char\n",
    "\n",
    "        #print (str(i) + \" output is: \" + output)\n",
    "\n",
    "        if (string[i] == string[i+1]): # if same char as the next, count +1 \n",
    "            count += 1\n",
    "\n",
    "            #print(string[i])\n",
    "            #print(string[i+1])\n",
    "        else:\n",
    "            if(count>1): \n",
    "                output += str(count)\n",
    "\n",
    "            output += string[i+1]\n",
    "            count=1\n",
    "\n",
    "    #last character\n",
    "    if (count>1):\n",
    "        output += str(count) \n",
    "\n",
    "    #if not compressed, return original string else return compressed string   \n",
    "    \n",
    "    if (len(output) == len(string)):\n",
    "        return string\n",
    "    else:\n",
    "        return output\n",
    "\n",
    "    \n",
    "#string = input(\"What is your text? :\").strip().lower()\n",
    "\n",
    "print(compressor(\"HellooooMMmmmeee\"))\n",
    "print(compressor(\"HellooMee\"))\n",
    "print(compressor(\"HhhHelllllllooMeeeE\"))\n"
   ]
  },
  {
   "cell_type": "code",
   "execution_count": null,
   "metadata": {},
   "outputs": [],
   "source": []
  }
 ],
 "metadata": {
  "anaconda-cloud": {},
  "kernelspec": {
   "display_name": "Python 3",
   "language": "python",
   "name": "python3"
  },
  "language_info": {
   "codemirror_mode": {
    "name": "ipython",
    "version": 3
   },
   "file_extension": ".py",
   "mimetype": "text/x-python",
   "name": "python",
   "nbconvert_exporter": "python",
   "pygments_lexer": "ipython3",
   "version": "3.6.4"
  }
 },
 "nbformat": 4,
 "nbformat_minor": 2
}
